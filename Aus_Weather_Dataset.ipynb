{
  "nbformat": 4,
  "nbformat_minor": 0,
  "metadata": {
    "colab": {
      "name": "Aus_Weather_Dataset.ipynb",
      "provenance": [],
      "collapsed_sections": [],
      "toc_visible": true,
      "include_colab_link": true
    },
    "kernelspec": {
      "display_name": "Python 3",
      "name": "python3"
    },
    "language_info": {
      "name": "python"
    }
  },
  "cells": [
    {
      "cell_type": "markdown",
      "metadata": {
        "id": "view-in-github",
        "colab_type": "text"
      },
      "source": [
        "<a href=\"https://colab.research.google.com/github/Obreintelly/Aus_Weather_Analysis/blob/main/Aus_Weather_Dataset.ipynb\" target=\"_parent\"><img src=\"https://colab.research.google.com/assets/colab-badge.svg\" alt=\"Open In Colab\"/></a>"
      ]
    },
    {
      "cell_type": "markdown",
      "metadata": {
        "id": "X1frD5fSUUMd"
      },
      "source": [
        "\n",
        "# PROBLEM STATEMENT\n",
        "Predicting whether rain today and rain tomorrow are correlated or dependent."
      ]
    },
    {
      "cell_type": "markdown",
      "metadata": {
        "id": "Yb9DCxHZU2-n"
      },
      "source": [
        "# HYPOTHESIS\n",
        "The claim is that the rain today and tomorrow are dependent with each other\n",
        "\n",
        "The claim under investigation is whether there is a strong correlation between rain today and rain tomorrow"
      ]
    },
    {
      "cell_type": "markdown",
      "metadata": {
        "id": "Vev45bQxU--O"
      },
      "source": [
        "# METRIC FOR SUCCESS\n",
        "This project will be successful when we identify whether rain today and tomorrow are dependent.\n",
        "\n",
        "Rejecting or not rejecting the null hypothesis"
      ]
    },
    {
      "cell_type": "markdown",
      "metadata": {
        "id": "7wYR6_SJVIWX"
      },
      "source": [
        "# Understanding the context\n",
        "This dataset contains about 10 years of daily weather observations from numerous Australian weather stations.\n",
        "RainTomorrow is the target variable to predict. It means -- did it rain the next day, Yes or No?\n",
        "This column is Yes if the rain for that day was 1mm or more."
      ]
    },
    {
      "cell_type": "markdown",
      "metadata": {
        "id": "ghhOB-tTVb0i"
      },
      "source": [
        "#Recording the Experimental Design\n",
        "Defining the research question\n",
        "\n",
        "Finding and dealing with outliers, anomalies, and missing data within the dataset.\n",
        "\n",
        "Plot appropriate univariate and bivariate summaries recording our observations.\n",
        "\n",
        "Implement the solution by performing hypothesis testing.\n",
        "\n",
        "Challenge your solution by providing insights on how you can make improvements. Defining the research question"
      ]
    },
    {
      "cell_type": "markdown",
      "metadata": {
        "id": "AeAkQYNkVh1c"
      },
      "source": [
        "# Relevance of the data\n",
        "THe data that was used for survey was obtained from an open datasource. The provided dataset is a daily aggregation, by date and location, factors affecting rainfall and whether it rain today or tomorrow. The dataset used was ranging from 2007 to 2017 and is relevant for this analysis"
      ]
    },
    {
      "cell_type": "code",
      "metadata": {
        "id": "5uMah6Xd-BKf"
      },
      "source": [
        "# Importing necessary libraries\n",
        "#For df_no loading and preprocessing\n",
        "import pandas as pd\n",
        "\n",
        "#For matrix operations\n",
        "import numpy as np\n",
        "\n",
        "#For plotting\n",
        "import matplotlib.pyplot as plt\n",
        "%matplotlib inline\n",
        "import seaborn as sns"
      ],
      "execution_count": 1,
      "outputs": []
    },
    {
      "cell_type": "code",
      "metadata": {
        "id": "qEub7RPuC5KR"
      },
      "source": [
        "# Reading our data\n",
        "df=pd.read_csv(\"weatherAUS.csv\")"
      ],
      "execution_count": 5,
      "outputs": []
    },
    {
      "cell_type": "markdown",
      "metadata": {
        "id": "CGCRaDHtDk91"
      },
      "source": [
        "# Checking the data"
      ]
    },
    {
      "cell_type": "code",
      "metadata": {
        "colab": {
          "base_uri": "https://localhost:8080/",
          "height": 292
        },
        "id": "GopW84_-OwmR",
        "outputId": "2e598f3e-e022-4db2-f245-bd82299f1872"
      },
      "source": [
        "#previewing our data\n",
        "df.head()"
      ],
      "execution_count": 6,
      "outputs": [
        {
          "output_type": "execute_result",
          "data": {
            "text/html": [
              "<div>\n",
              "<style scoped>\n",
              "    .dataframe tbody tr th:only-of-type {\n",
              "        vertical-align: middle;\n",
              "    }\n",
              "\n",
              "    .dataframe tbody tr th {\n",
              "        vertical-align: top;\n",
              "    }\n",
              "\n",
              "    .dataframe thead th {\n",
              "        text-align: right;\n",
              "    }\n",
              "</style>\n",
              "<table border=\"1\" class=\"dataframe\">\n",
              "  <thead>\n",
              "    <tr style=\"text-align: right;\">\n",
              "      <th></th>\n",
              "      <th>Date</th>\n",
              "      <th>Location</th>\n",
              "      <th>MinTemp</th>\n",
              "      <th>MaxTemp</th>\n",
              "      <th>Rainfall</th>\n",
              "      <th>Evaporation</th>\n",
              "      <th>Sunshine</th>\n",
              "      <th>WindGustDir</th>\n",
              "      <th>WindGustSpeed</th>\n",
              "      <th>WindDir9am</th>\n",
              "      <th>WindDir3pm</th>\n",
              "      <th>WindSpeed9am</th>\n",
              "      <th>WindSpeed3pm</th>\n",
              "      <th>Humidity9am</th>\n",
              "      <th>Humidity3pm</th>\n",
              "      <th>Pressure9am</th>\n",
              "      <th>Pressure3pm</th>\n",
              "      <th>Cloud9am</th>\n",
              "      <th>Cloud3pm</th>\n",
              "      <th>Temp9am</th>\n",
              "      <th>Temp3pm</th>\n",
              "      <th>RainToday</th>\n",
              "      <th>RainTomorrow</th>\n",
              "    </tr>\n",
              "  </thead>\n",
              "  <tbody>\n",
              "    <tr>\n",
              "      <th>0</th>\n",
              "      <td>2008-12-01</td>\n",
              "      <td>Albury</td>\n",
              "      <td>13.4</td>\n",
              "      <td>22.9</td>\n",
              "      <td>0.6</td>\n",
              "      <td>NaN</td>\n",
              "      <td>NaN</td>\n",
              "      <td>W</td>\n",
              "      <td>44.0</td>\n",
              "      <td>W</td>\n",
              "      <td>WNW</td>\n",
              "      <td>20.0</td>\n",
              "      <td>24.0</td>\n",
              "      <td>71.0</td>\n",
              "      <td>22.0</td>\n",
              "      <td>1007.7</td>\n",
              "      <td>1007.1</td>\n",
              "      <td>8.0</td>\n",
              "      <td>NaN</td>\n",
              "      <td>16.9</td>\n",
              "      <td>21.8</td>\n",
              "      <td>No</td>\n",
              "      <td>No</td>\n",
              "    </tr>\n",
              "    <tr>\n",
              "      <th>1</th>\n",
              "      <td>2008-12-02</td>\n",
              "      <td>Albury</td>\n",
              "      <td>7.4</td>\n",
              "      <td>25.1</td>\n",
              "      <td>0.0</td>\n",
              "      <td>NaN</td>\n",
              "      <td>NaN</td>\n",
              "      <td>WNW</td>\n",
              "      <td>44.0</td>\n",
              "      <td>NNW</td>\n",
              "      <td>WSW</td>\n",
              "      <td>4.0</td>\n",
              "      <td>22.0</td>\n",
              "      <td>44.0</td>\n",
              "      <td>25.0</td>\n",
              "      <td>1010.6</td>\n",
              "      <td>1007.8</td>\n",
              "      <td>NaN</td>\n",
              "      <td>NaN</td>\n",
              "      <td>17.2</td>\n",
              "      <td>24.3</td>\n",
              "      <td>No</td>\n",
              "      <td>No</td>\n",
              "    </tr>\n",
              "    <tr>\n",
              "      <th>2</th>\n",
              "      <td>2008-12-03</td>\n",
              "      <td>Albury</td>\n",
              "      <td>12.9</td>\n",
              "      <td>25.7</td>\n",
              "      <td>0.0</td>\n",
              "      <td>NaN</td>\n",
              "      <td>NaN</td>\n",
              "      <td>WSW</td>\n",
              "      <td>46.0</td>\n",
              "      <td>W</td>\n",
              "      <td>WSW</td>\n",
              "      <td>19.0</td>\n",
              "      <td>26.0</td>\n",
              "      <td>38.0</td>\n",
              "      <td>30.0</td>\n",
              "      <td>1007.6</td>\n",
              "      <td>1008.7</td>\n",
              "      <td>NaN</td>\n",
              "      <td>2.0</td>\n",
              "      <td>21.0</td>\n",
              "      <td>23.2</td>\n",
              "      <td>No</td>\n",
              "      <td>No</td>\n",
              "    </tr>\n",
              "    <tr>\n",
              "      <th>3</th>\n",
              "      <td>2008-12-04</td>\n",
              "      <td>Albury</td>\n",
              "      <td>9.2</td>\n",
              "      <td>28.0</td>\n",
              "      <td>0.0</td>\n",
              "      <td>NaN</td>\n",
              "      <td>NaN</td>\n",
              "      <td>NE</td>\n",
              "      <td>24.0</td>\n",
              "      <td>SE</td>\n",
              "      <td>E</td>\n",
              "      <td>11.0</td>\n",
              "      <td>9.0</td>\n",
              "      <td>45.0</td>\n",
              "      <td>16.0</td>\n",
              "      <td>1017.6</td>\n",
              "      <td>1012.8</td>\n",
              "      <td>NaN</td>\n",
              "      <td>NaN</td>\n",
              "      <td>18.1</td>\n",
              "      <td>26.5</td>\n",
              "      <td>No</td>\n",
              "      <td>No</td>\n",
              "    </tr>\n",
              "    <tr>\n",
              "      <th>4</th>\n",
              "      <td>2008-12-05</td>\n",
              "      <td>Albury</td>\n",
              "      <td>17.5</td>\n",
              "      <td>32.3</td>\n",
              "      <td>1.0</td>\n",
              "      <td>NaN</td>\n",
              "      <td>NaN</td>\n",
              "      <td>W</td>\n",
              "      <td>41.0</td>\n",
              "      <td>ENE</td>\n",
              "      <td>NW</td>\n",
              "      <td>7.0</td>\n",
              "      <td>20.0</td>\n",
              "      <td>82.0</td>\n",
              "      <td>33.0</td>\n",
              "      <td>1010.8</td>\n",
              "      <td>1006.0</td>\n",
              "      <td>7.0</td>\n",
              "      <td>8.0</td>\n",
              "      <td>17.8</td>\n",
              "      <td>29.7</td>\n",
              "      <td>No</td>\n",
              "      <td>No</td>\n",
              "    </tr>\n",
              "  </tbody>\n",
              "</table>\n",
              "</div>"
            ],
            "text/plain": [
              "         Date Location  MinTemp  ...  Temp3pm  RainToday  RainTomorrow\n",
              "0  2008-12-01   Albury     13.4  ...     21.8         No            No\n",
              "1  2008-12-02   Albury      7.4  ...     24.3         No            No\n",
              "2  2008-12-03   Albury     12.9  ...     23.2         No            No\n",
              "3  2008-12-04   Albury      9.2  ...     26.5         No            No\n",
              "4  2008-12-05   Albury     17.5  ...     29.7         No            No\n",
              "\n",
              "[5 rows x 23 columns]"
            ]
          },
          "metadata": {
            "tags": []
          },
          "execution_count": 6
        }
      ]
    },
    {
      "cell_type": "code",
      "metadata": {
        "colab": {
          "base_uri": "https://localhost:8080/"
        },
        "id": "tqQfTdtKDC-J",
        "outputId": "59f00bd9-220b-4b95-c0b4-fd1df41eaa87"
      },
      "source": [
        "# checking the shape of our data\n",
        "df.shape"
      ],
      "execution_count": null,
      "outputs": [
        {
          "output_type": "execute_result",
          "data": {
            "text/plain": [
              "(145460, 23)"
            ]
          },
          "metadata": {
            "tags": []
          },
          "execution_count": 62
        }
      ]
    },
    {
      "cell_type": "code",
      "metadata": {
        "colab": {
          "base_uri": "https://localhost:8080/"
        },
        "id": "hAIrrQCtuvBI",
        "outputId": "350f3e65-f487-481c-dead-a781944f4545"
      },
      "source": [
        "#Australia: map coordinates\n",
        "df['Latitude'] = \"\"\n",
        "df['Longitude'] = \"\"\n",
        "df.columns"
      ],
      "execution_count": 7,
      "outputs": [
        {
          "output_type": "execute_result",
          "data": {
            "text/plain": [
              "Index(['Date', 'Location', 'MinTemp', 'MaxTemp', 'Rainfall', 'Evaporation',\n",
              "       'Sunshine', 'WindGustDir', 'WindGustSpeed', 'WindDir9am', 'WindDir3pm',\n",
              "       'WindSpeed9am', 'WindSpeed3pm', 'Humidity9am', 'Humidity3pm',\n",
              "       'Pressure9am', 'Pressure3pm', 'Cloud9am', 'Cloud3pm', 'Temp9am',\n",
              "       'Temp3pm', 'RainToday', 'RainTomorrow', 'Latitude', 'Longitude'],\n",
              "      dtype='object')"
            ]
          },
          "metadata": {
            "tags": []
          },
          "execution_count": 7
        }
      ]
    },
    {
      "cell_type": "code",
      "metadata": {
        "id": "IvfrJIdSuwfZ"
      },
      "source": [
        "latitude=[]\n",
        "for row in df['Location']:\n",
        "    if row == 'Albury':\n",
        "        latitude.append(-36.073730)\n",
        "    elif row == 'CoffsHarbour':\n",
        "        latitude.append(-30.296350)\n",
        "    elif row == 'Newcastle':\n",
        "        latitude.append(-32.926670)\n",
        "    elif row == 'Sydney':\n",
        "        latitude.append(-33.868820)\n",
        "    elif row == 'WaggaWagga':\n",
        "        latitude.append(-35.114750)\n",
        "    elif row == 'Wollongong':\n",
        "        latitude.append(-34.424179)\n",
        "    elif row == 'Canberra':\n",
        "        latitude.append(-35.282001)\n",
        "    elif row == 'Ballarat':\n",
        "        latitude.append(-37.549999)\n",
        "    elif row == 'Bendigo':\n",
        "        latitude.append(-36.757786)\n",
        "    elif row == 'Melbourne':\n",
        "        latitude.append(-37.840935)\n",
        "    elif row == 'Portland':\n",
        "        latitude.append(-38.346345)\n",
        "    elif row == 'Brisbane':\n",
        "        latitude.append(-27.470125)\n",
        "    elif row == 'Cairns':\n",
        "        latitude.append(-16.925491)\n",
        "    elif row == 'GoldCoast':\n",
        "        latitude.append(-28.016666)\n",
        "    elif row == 'Townsville':\n",
        "        latitude.append(-19.258965)\n",
        "    elif row == 'Adelaide':\n",
        "        latitude.append(-34.921230)\n",
        "    elif row == 'Albany':\n",
        "        latitude.append(-35.022778)\n",
        "    elif row == 'Perth':\n",
        "        latitude.append(-31.953512)\n",
        "    elif row == 'Hobart':\n",
        "        latitude.append(-42.880554)\n",
        "    elif row == 'Launceston':\n",
        "        latitude.append(-41.429825)\n",
        "    elif row == 'AliceSprings':\n",
        "        latitude.append(-23.700552)\n",
        "    elif row == 'Darwin':\n",
        "        latitude.append(-12.462827)\n",
        "    elif row == 'Katherine':\n",
        "        latitude.append(-14.46517)\n",
        "    elif row == 'Uluru':\n",
        "        latitude.append(-25.344490)\n",
        "    else:\n",
        "        latitude.append('Not Defined')\n",
        "        \n"
      ],
      "execution_count": 8,
      "outputs": []
    },
    {
      "cell_type": "code",
      "metadata": {
        "id": "NHsnXp7AvbLq"
      },
      "source": [
        "longitude=[]\n",
        "for row in df['Location']:\n",
        "    if row == 'Albury':\n",
        "        longitude.append(146.913544)\n",
        "    elif row == 'CoffsHarbour':\n",
        "        longitude.append(153.115692)\n",
        "    elif row == 'Newcastle':\n",
        "        longitude.append(151.780014)\n",
        "    elif row == 'Sydney':\n",
        "        longitude.append(151.209290)\n",
        "    elif row == 'WaggaWagga':\n",
        "        longitude.append(147.369620)\n",
        "    elif row == 'Wollongong':\n",
        "        longitude.append(150.893555)\n",
        "    elif row == 'Canberra':\n",
        "        longitude.append(149.128998)\n",
        "    elif row == 'Ballarat':\n",
        "        longitude.append(143.850006)\n",
        "    elif row == 'Bendigo':\n",
        "        longitude.append(144.278702)\n",
        "    elif row == 'Melbourne':\n",
        "        longitude.append(144.946457)\n",
        "    elif row == 'Portland':\n",
        "        longitude.append(141.60421)\n",
        "    elif row == 'Brisbane':\n",
        "        longitude.append(153.021072)\n",
        "    elif row == 'Cairns':\n",
        "        longitude.append(145.754120)\n",
        "    elif row == 'GoldCoast':\n",
        "        longitude.append(153.399994)\n",
        "    elif row == 'Townsville':\n",
        "        longitude.append(146.816956)\n",
        "    elif row == 'Adelaide':\n",
        "        longitude.append(138.599503)\n",
        "    elif row == 'Albany':\n",
        "        longitude.append(117.881386)\n",
        "    elif row == 'Perth':\n",
        "        longitude.append(115.857048)\n",
        "    elif row == 'Hobart':\n",
        "        longitude.append(147.324997)\n",
        "    elif row == 'Launceston':\n",
        "        longitude.append(147.157135)\n",
        "    elif row == 'AliceSprings':\n",
        "        longitude.append(133.882675)\n",
        "    elif row == 'Darwin':\n",
        "        longitude.append(130.841782)\n",
        "    elif row == 'Katherine':\n",
        "        longitude.append(132.26347)\n",
        "    elif row == 'Uluru':\n",
        "        longitude.append(131.035431)\n",
        "    else:\n",
        "        longitude.append('Not Defined')"
      ],
      "execution_count": 9,
      "outputs": []
    },
    {
      "cell_type": "code",
      "metadata": {
        "id": "6_f7YXVRv3rq"
      },
      "source": [
        "#add geographic location\n",
        "df['Latitude'] = latitude\n",
        "df['Longitude'] = longitude"
      ],
      "execution_count": 10,
      "outputs": []
    },
    {
      "cell_type": "code",
      "metadata": {
        "colab": {
          "base_uri": "https://localhost:8080/",
          "height": 157
        },
        "id": "1M8nM9VEwC7Q",
        "outputId": "43c9ff5e-e8df-4ef2-c47d-b3283d65c348"
      },
      "source": [
        "df.head(2)"
      ],
      "execution_count": 11,
      "outputs": [
        {
          "output_type": "execute_result",
          "data": {
            "text/html": [
              "<div>\n",
              "<style scoped>\n",
              "    .dataframe tbody tr th:only-of-type {\n",
              "        vertical-align: middle;\n",
              "    }\n",
              "\n",
              "    .dataframe tbody tr th {\n",
              "        vertical-align: top;\n",
              "    }\n",
              "\n",
              "    .dataframe thead th {\n",
              "        text-align: right;\n",
              "    }\n",
              "</style>\n",
              "<table border=\"1\" class=\"dataframe\">\n",
              "  <thead>\n",
              "    <tr style=\"text-align: right;\">\n",
              "      <th></th>\n",
              "      <th>Date</th>\n",
              "      <th>Location</th>\n",
              "      <th>MinTemp</th>\n",
              "      <th>MaxTemp</th>\n",
              "      <th>Rainfall</th>\n",
              "      <th>Evaporation</th>\n",
              "      <th>Sunshine</th>\n",
              "      <th>WindGustDir</th>\n",
              "      <th>WindGustSpeed</th>\n",
              "      <th>WindDir9am</th>\n",
              "      <th>WindDir3pm</th>\n",
              "      <th>WindSpeed9am</th>\n",
              "      <th>WindSpeed3pm</th>\n",
              "      <th>Humidity9am</th>\n",
              "      <th>Humidity3pm</th>\n",
              "      <th>Pressure9am</th>\n",
              "      <th>Pressure3pm</th>\n",
              "      <th>Cloud9am</th>\n",
              "      <th>Cloud3pm</th>\n",
              "      <th>Temp9am</th>\n",
              "      <th>Temp3pm</th>\n",
              "      <th>RainToday</th>\n",
              "      <th>RainTomorrow</th>\n",
              "      <th>Latitude</th>\n",
              "      <th>Longitude</th>\n",
              "    </tr>\n",
              "  </thead>\n",
              "  <tbody>\n",
              "    <tr>\n",
              "      <th>0</th>\n",
              "      <td>2008-12-01</td>\n",
              "      <td>Albury</td>\n",
              "      <td>13.4</td>\n",
              "      <td>22.9</td>\n",
              "      <td>0.6</td>\n",
              "      <td>NaN</td>\n",
              "      <td>NaN</td>\n",
              "      <td>W</td>\n",
              "      <td>44.0</td>\n",
              "      <td>W</td>\n",
              "      <td>WNW</td>\n",
              "      <td>20.0</td>\n",
              "      <td>24.0</td>\n",
              "      <td>71.0</td>\n",
              "      <td>22.0</td>\n",
              "      <td>1007.7</td>\n",
              "      <td>1007.1</td>\n",
              "      <td>8.0</td>\n",
              "      <td>NaN</td>\n",
              "      <td>16.9</td>\n",
              "      <td>21.8</td>\n",
              "      <td>No</td>\n",
              "      <td>No</td>\n",
              "      <td>-36.0737</td>\n",
              "      <td>146.914</td>\n",
              "    </tr>\n",
              "    <tr>\n",
              "      <th>1</th>\n",
              "      <td>2008-12-02</td>\n",
              "      <td>Albury</td>\n",
              "      <td>7.4</td>\n",
              "      <td>25.1</td>\n",
              "      <td>0.0</td>\n",
              "      <td>NaN</td>\n",
              "      <td>NaN</td>\n",
              "      <td>WNW</td>\n",
              "      <td>44.0</td>\n",
              "      <td>NNW</td>\n",
              "      <td>WSW</td>\n",
              "      <td>4.0</td>\n",
              "      <td>22.0</td>\n",
              "      <td>44.0</td>\n",
              "      <td>25.0</td>\n",
              "      <td>1010.6</td>\n",
              "      <td>1007.8</td>\n",
              "      <td>NaN</td>\n",
              "      <td>NaN</td>\n",
              "      <td>17.2</td>\n",
              "      <td>24.3</td>\n",
              "      <td>No</td>\n",
              "      <td>No</td>\n",
              "      <td>-36.0737</td>\n",
              "      <td>146.914</td>\n",
              "    </tr>\n",
              "  </tbody>\n",
              "</table>\n",
              "</div>"
            ],
            "text/plain": [
              "         Date Location  MinTemp  ...  RainTomorrow  Latitude  Longitude\n",
              "0  2008-12-01   Albury     13.4  ...            No  -36.0737    146.914\n",
              "1  2008-12-02   Albury      7.4  ...            No  -36.0737    146.914\n",
              "\n",
              "[2 rows x 25 columns]"
            ]
          },
          "metadata": {
            "tags": []
          },
          "execution_count": 11
        }
      ]
    },
    {
      "cell_type": "code",
      "metadata": {
        "colab": {
          "base_uri": "https://localhost:8080/"
        },
        "id": "G6s0IXPPDfvg",
        "outputId": "348639cb-7ad7-4838-ed1f-15b46818c5e7"
      },
      "source": [
        "# checking datatypes\n",
        "df.info()"
      ],
      "execution_count": null,
      "outputs": [
        {
          "output_type": "stream",
          "text": [
            "<class 'pandas.core.frame.DataFrame'>\n",
            "RangeIndex: 145460 entries, 0 to 145459\n",
            "Data columns (total 23 columns):\n",
            " #   Column         Non-Null Count   Dtype  \n",
            "---  ------         --------------   -----  \n",
            " 0   Date           145460 non-null  object \n",
            " 1   Location       145460 non-null  object \n",
            " 2   MinTemp        143975 non-null  float64\n",
            " 3   MaxTemp        144199 non-null  float64\n",
            " 4   Rainfall       142199 non-null  float64\n",
            " 5   Evaporation    82670 non-null   float64\n",
            " 6   Sunshine       75625 non-null   float64\n",
            " 7   WindGustDir    135134 non-null  object \n",
            " 8   WindGustSpeed  135197 non-null  float64\n",
            " 9   WindDir9am     134894 non-null  object \n",
            " 10  WindDir3pm     141232 non-null  object \n",
            " 11  WindSpeed9am   143693 non-null  float64\n",
            " 12  WindSpeed3pm   142398 non-null  float64\n",
            " 13  Humidity9am    142806 non-null  float64\n",
            " 14  Humidity3pm    140953 non-null  float64\n",
            " 15  Pressure9am    130395 non-null  float64\n",
            " 16  Pressure3pm    130432 non-null  float64\n",
            " 17  Cloud9am       89572 non-null   float64\n",
            " 18  Cloud3pm       86102 non-null   float64\n",
            " 19  Temp9am        143693 non-null  float64\n",
            " 20  Temp3pm        141851 non-null  float64\n",
            " 21  RainToday      142199 non-null  object \n",
            " 22  RainTomorrow   142193 non-null  object \n",
            "dtypes: float64(16), object(7)\n",
            "memory usage: 25.5+ MB\n"
          ],
          "name": "stdout"
        }
      ]
    },
    {
      "cell_type": "code",
      "metadata": {
        "colab": {
          "base_uri": "https://localhost:8080/"
        },
        "id": "5aWhZbPhO3v_",
        "outputId": "91964b88-94bc-4769-a45e-5c8dfa6aa7c6"
      },
      "source": [
        "# checking data info\n",
        "df.info()"
      ],
      "execution_count": null,
      "outputs": [
        {
          "output_type": "stream",
          "text": [
            "<class 'pandas.core.frame.DataFrame'>\n",
            "RangeIndex: 145460 entries, 0 to 145459\n",
            "Data columns (total 23 columns):\n",
            " #   Column         Non-Null Count   Dtype  \n",
            "---  ------         --------------   -----  \n",
            " 0   Date           145460 non-null  object \n",
            " 1   Location       145460 non-null  object \n",
            " 2   MinTemp        143975 non-null  float64\n",
            " 3   MaxTemp        144199 non-null  float64\n",
            " 4   Rainfall       142199 non-null  float64\n",
            " 5   Evaporation    82670 non-null   float64\n",
            " 6   Sunshine       75625 non-null   float64\n",
            " 7   WindGustDir    135134 non-null  object \n",
            " 8   WindGustSpeed  135197 non-null  float64\n",
            " 9   WindDir9am     134894 non-null  object \n",
            " 10  WindDir3pm     141232 non-null  object \n",
            " 11  WindSpeed9am   143693 non-null  float64\n",
            " 12  WindSpeed3pm   142398 non-null  float64\n",
            " 13  Humidity9am    142806 non-null  float64\n",
            " 14  Humidity3pm    140953 non-null  float64\n",
            " 15  Pressure9am    130395 non-null  float64\n",
            " 16  Pressure3pm    130432 non-null  float64\n",
            " 17  Cloud9am       89572 non-null   float64\n",
            " 18  Cloud3pm       86102 non-null   float64\n",
            " 19  Temp9am        143693 non-null  float64\n",
            " 20  Temp3pm        141851 non-null  float64\n",
            " 21  RainToday      142199 non-null  object \n",
            " 22  RainTomorrow   142193 non-null  object \n",
            "dtypes: float64(16), object(7)\n",
            "memory usage: 25.5+ MB\n"
          ],
          "name": "stdout"
        }
      ]
    },
    {
      "cell_type": "code",
      "metadata": {
        "colab": {
          "base_uri": "https://localhost:8080/"
        },
        "id": "LXBT-2Q1O7Xa",
        "outputId": "260de8bb-79ff-4bbd-de0d-e93395d664a1"
      },
      "source": [
        "# checking for duplicates\n",
        "df.duplicated().any()"
      ],
      "execution_count": null,
      "outputs": [
        {
          "output_type": "execute_result",
          "data": {
            "text/plain": [
              "False"
            ]
          },
          "metadata": {
            "tags": []
          },
          "execution_count": 65
        }
      ]
    },
    {
      "cell_type": "code",
      "metadata": {
        "colab": {
          "base_uri": "https://localhost:8080/"
        },
        "id": "leIAvb6vYtze",
        "outputId": "4952d8a2-660f-4a6b-b7df-cd687c59880f"
      },
      "source": [
        "d_parser = lambda x: pd.datetime.strptime(x, '%Y-%m-%d')\n",
        "df=pd.read_csv(\"weatherAUS.csv\", parse_dates=['Date'], date_parser=d_parser)"
      ],
      "execution_count": null,
      "outputs": [
        {
          "output_type": "stream",
          "text": [
            "/usr/local/lib/python3.7/dist-packages/ipykernel_launcher.py:1: FutureWarning: The pandas.datetime class is deprecated and will be removed from pandas in a future version. Import from datetime module instead.\n",
            "  \"\"\"Entry point for launching an IPython kernel.\n"
          ],
          "name": "stderr"
        }
      ]
    },
    {
      "cell_type": "code",
      "metadata": {
        "colab": {
          "base_uri": "https://localhost:8080/"
        },
        "id": "99tE9a1mY1F6",
        "outputId": "a379a343-325e-41df-c387-7d594a55ac02"
      },
      "source": [
        "df['Date'].min()"
      ],
      "execution_count": null,
      "outputs": [
        {
          "output_type": "execute_result",
          "data": {
            "text/plain": [
              "Timestamp('2007-11-01 00:00:00')"
            ]
          },
          "metadata": {
            "tags": []
          },
          "execution_count": 67
        }
      ]
    },
    {
      "cell_type": "code",
      "metadata": {
        "colab": {
          "base_uri": "https://localhost:8080/"
        },
        "id": "XeD6Qz45Y3LX",
        "outputId": "91e47f20-a9e2-445c-d79f-e8be6baa54e8"
      },
      "source": [
        "df['Date'].max()"
      ],
      "execution_count": null,
      "outputs": [
        {
          "output_type": "execute_result",
          "data": {
            "text/plain": [
              "Timestamp('2017-06-25 00:00:00')"
            ]
          },
          "metadata": {
            "tags": []
          },
          "execution_count": 68
        }
      ]
    },
    {
      "cell_type": "code",
      "metadata": {
        "colab": {
          "base_uri": "https://localhost:8080/"
        },
        "id": "C1bme9YlPUB_",
        "outputId": "a11034f3-df6a-41ca-ea0b-da37f011a156"
      },
      "source": [
        "# checking for missing values\n",
        "df.isnull().any()"
      ],
      "execution_count": null,
      "outputs": [
        {
          "output_type": "execute_result",
          "data": {
            "text/plain": [
              "Date             False\n",
              "Location         False\n",
              "MinTemp           True\n",
              "MaxTemp           True\n",
              "Rainfall          True\n",
              "Evaporation       True\n",
              "Sunshine          True\n",
              "WindGustDir       True\n",
              "WindGustSpeed     True\n",
              "WindDir9am        True\n",
              "WindDir3pm        True\n",
              "WindSpeed9am      True\n",
              "WindSpeed3pm      True\n",
              "Humidity9am       True\n",
              "Humidity3pm       True\n",
              "Pressure9am       True\n",
              "Pressure3pm       True\n",
              "Cloud9am          True\n",
              "Cloud3pm          True\n",
              "Temp9am           True\n",
              "Temp3pm           True\n",
              "RainToday         True\n",
              "RainTomorrow      True\n",
              "dtype: bool"
            ]
          },
          "metadata": {
            "tags": []
          },
          "execution_count": 69
        }
      ]
    },
    {
      "cell_type": "code",
      "metadata": {
        "colab": {
          "base_uri": "https://localhost:8080/"
        },
        "id": "czGjRAoUPU9k",
        "outputId": "73be30bc-256b-449c-f59f-4dec1d0f77cd"
      },
      "source": [
        "sns.set(style=\"whitegrid\")\n",
        "sns.countplot(df.RainTomorrow)\n",
        "plt.title(\"Target labels\")\n",
        "plt.show()"
      ],
      "execution_count": null,
      "outputs": [
        {
          "output_type": "stream",
          "text": [
            "/usr/local/lib/python3.7/dist-packages/seaborn/_decorators.py:43: FutureWarning: Pass the following variable as a keyword arg: x. From version 0.12, the only valid positional argument will be `data`, and passing other arguments without an explicit keyword will result in an error or misinterpretation.\n",
            "  FutureWarning\n"
          ],
          "name": "stderr"
        },
        {
          "output_type": "display_data",
          "data": {
            "image/png": "[encoded data removed]",
            "text/plain": [
              "<Figure size 432x288 with 1 Axes>"
            ]
          },
          "metadata": {
            "tags": []
          }
        }
      ]
    },
    {
      "cell_type": "markdown",
      "metadata": {
        "id": "33Or3th_P7n1"
      },
      "source": [
        "From above plot it is clear that data set is imbalanced"
      ]
    },
    {
      "cell_type": "code",
      "metadata": {
        "id": "MhjpwiSTPown"
      },
      "source": [
        "\n",
        "#Separating the df_no based on its class label.\n",
        "df_yes = df[df['RainTomorrow']=='Yes']\n",
        "df_no = df[df['RainTomorrow']=='No']"
      ],
      "execution_count": null,
      "outputs": []
    },
    {
      "cell_type": "markdown",
      "metadata": {
        "id": "nX60eQ69QKt_"
      },
      "source": [
        "Now lets observe the most occuring values in every column for both the cases"
      ]
    },
    {
      "cell_type": "code",
      "metadata": {
        "colab": {
          "base_uri": "https://localhost:8080/"
        },
        "id": "O4J6vpENP_hd",
        "outputId": "55b7579d-d76d-45b1-e8a6-7e8e7b1017e5"
      },
      "source": [
        "#Observing the mode for all columns when RainTomorrow = Yes  \n",
        "mode_values_for_yes = df_yes.mode()\n",
        "mode_values_for_yes.head(1)"
      ],
      "execution_count": null,
      "outputs": [
        {
          "output_type": "execute_result",
          "data": {
            "text/html": [
              "<div>\n",
              "<style scoped>\n",
              "    .dataframe tbody tr th:only-of-type {\n",
              "        vertical-align: middle;\n",
              "    }\n",
              "\n",
              "    .dataframe tbody tr th {\n",
              "        vertical-align: top;\n",
              "    }\n",
              "\n",
              "    .dataframe thead th {\n",
              "        text-align: right;\n",
              "    }\n",
              "</style>\n",
              "<table border=\"1\" class=\"dataframe\">\n",
              "  <thead>\n",
              "    <tr style=\"text-align: right;\">\n",
              "      <th></th>\n",
              "      <th>Date</th>\n",
              "      <th>Location</th>\n",
              "      <th>MinTemp</th>\n",
              "      <th>MaxTemp</th>\n",
              "      <th>Rainfall</th>\n",
              "      <th>Evaporation</th>\n",
              "      <th>Sunshine</th>\n",
              "      <th>WindGustDir</th>\n",
              "      <th>WindGustSpeed</th>\n",
              "      <th>WindDir9am</th>\n",
              "      <th>WindDir3pm</th>\n",
              "      <th>WindSpeed9am</th>\n",
              "      <th>WindSpeed3pm</th>\n",
              "      <th>Humidity9am</th>\n",
              "      <th>Humidity3pm</th>\n",
              "      <th>Pressure9am</th>\n",
              "      <th>Pressure3pm</th>\n",
              "      <th>Cloud9am</th>\n",
              "      <th>Cloud3pm</th>\n",
              "      <th>Temp9am</th>\n",
              "      <th>Temp3pm</th>\n",
              "      <th>RainToday</th>\n",
              "      <th>RainTomorrow</th>\n",
              "    </tr>\n",
              "  </thead>\n",
              "  <tbody>\n",
              "    <tr>\n",
              "      <th>0</th>\n",
              "      <td>2010-09-03</td>\n",
              "      <td>Portland</td>\n",
              "      <td>9.6</td>\n",
              "      <td>17.2</td>\n",
              "      <td>0.0</td>\n",
              "      <td>4.0</td>\n",
              "      <td>0.0</td>\n",
              "      <td>W</td>\n",
              "      <td>39.0</td>\n",
              "      <td>N</td>\n",
              "      <td>W</td>\n",
              "      <td>9.0</td>\n",
              "      <td>17.0</td>\n",
              "      <td>99.0</td>\n",
              "      <td>69.0</td>\n",
              "      <td>1014.0</td>\n",
              "      <td>1010.4</td>\n",
              "      <td>8.0</td>\n",
              "      <td>8.0</td>\n",
              "      <td>13.8</td>\n",
              "      <td>16.0</td>\n",
              "      <td>No</td>\n",
              "      <td>Yes</td>\n",
              "    </tr>\n",
              "  </tbody>\n",
              "</table>\n",
              "</div>"
            ],
            "text/plain": [
              "        Date  Location  MinTemp  ...  Temp3pm  RainToday  RainTomorrow\n",
              "0 2010-09-03  Portland      9.6  ...     16.0         No           Yes\n",
              "\n",
              "[1 rows x 23 columns]"
            ]
          },
          "metadata": {
            "tags": []
          },
          "execution_count": 72
        }
      ]
    },
    {
      "cell_type": "code",
      "metadata": {
        "colab": {
          "base_uri": "https://localhost:8080/"
        },
        "id": "Hp_Rld2AQSIF",
        "outputId": "eaa03ba9-a0ac-4e5d-c142-44cbbaf26cda"
      },
      "source": [
        "#Observing the mode for all columns when RainTomorrow = No  \n",
        "mode_values_for_no = df_no.mode()\n",
        "mode_values_for_no.head(1)"
      ],
      "execution_count": null,
      "outputs": [
        {
          "output_type": "execute_result",
          "data": {
            "text/html": [
              "<div>\n",
              "<style scoped>\n",
              "    .dataframe tbody tr th:only-of-type {\n",
              "        vertical-align: middle;\n",
              "    }\n",
              "\n",
              "    .dataframe tbody tr th {\n",
              "        vertical-align: top;\n",
              "    }\n",
              "\n",
              "    .dataframe thead th {\n",
              "        text-align: right;\n",
              "    }\n",
              "</style>\n",
              "<table border=\"1\" class=\"dataframe\">\n",
              "  <thead>\n",
              "    <tr style=\"text-align: right;\">\n",
              "      <th></th>\n",
              "      <th>Date</th>\n",
              "      <th>Location</th>\n",
              "      <th>MinTemp</th>\n",
              "      <th>MaxTemp</th>\n",
              "      <th>Rainfall</th>\n",
              "      <th>Evaporation</th>\n",
              "      <th>Sunshine</th>\n",
              "      <th>WindGustDir</th>\n",
              "      <th>WindGustSpeed</th>\n",
              "      <th>WindDir9am</th>\n",
              "      <th>WindDir3pm</th>\n",
              "      <th>WindSpeed9am</th>\n",
              "      <th>WindSpeed3pm</th>\n",
              "      <th>Humidity9am</th>\n",
              "      <th>Humidity3pm</th>\n",
              "      <th>Pressure9am</th>\n",
              "      <th>Pressure3pm</th>\n",
              "      <th>Cloud9am</th>\n",
              "      <th>Cloud3pm</th>\n",
              "      <th>Temp9am</th>\n",
              "      <th>Temp3pm</th>\n",
              "      <th>RainToday</th>\n",
              "      <th>RainTomorrow</th>\n",
              "    </tr>\n",
              "  </thead>\n",
              "  <tbody>\n",
              "    <tr>\n",
              "      <th>0</th>\n",
              "      <td>2014-03-18</td>\n",
              "      <td>Canberra</td>\n",
              "      <td>11.0</td>\n",
              "      <td>20.0</td>\n",
              "      <td>0.0</td>\n",
              "      <td>4.0</td>\n",
              "      <td>11.0</td>\n",
              "      <td>E</td>\n",
              "      <td>35.0</td>\n",
              "      <td>N</td>\n",
              "      <td>SE</td>\n",
              "      <td>9.0</td>\n",
              "      <td>13.0</td>\n",
              "      <td>65.0</td>\n",
              "      <td>52.0</td>\n",
              "      <td>1017.9</td>\n",
              "      <td>1015.5</td>\n",
              "      <td>1.0</td>\n",
              "      <td>1.0</td>\n",
              "      <td>16.0</td>\n",
              "      <td>20.0</td>\n",
              "      <td>No</td>\n",
              "      <td>No</td>\n",
              "    </tr>\n",
              "  </tbody>\n",
              "</table>\n",
              "</div>"
            ],
            "text/plain": [
              "        Date  Location  MinTemp  ...  Temp3pm  RainToday  RainTomorrow\n",
              "0 2014-03-18  Canberra     11.0  ...     20.0         No            No\n",
              "\n",
              "[1 rows x 23 columns]"
            ]
          },
          "metadata": {
            "tags": []
          },
          "execution_count": 73
        }
      ]
    },
    {
      "cell_type": "code",
      "metadata": {
        "colab": {
          "base_uri": "https://localhost:8080/"
        },
        "id": "nj5GN6e7QXE-",
        "outputId": "b0b759db-4bdc-4625-ade9-ceadb88051e7"
      },
      "source": [
        "df_no['MaxTemp'].median()"
      ],
      "execution_count": null,
      "outputs": [
        {
          "output_type": "execute_result",
          "data": {
            "text/plain": [
              "23.3"
            ]
          },
          "metadata": {
            "tags": []
          },
          "execution_count": 74
        }
      ]
    },
    {
      "cell_type": "code",
      "metadata": {
        "colab": {
          "base_uri": "https://localhost:8080/"
        },
        "id": "cQTdBvT7QahL",
        "outputId": "0bd8d51f-746c-4993-f60e-86459cc82624"
      },
      "source": [
        "#For Temparatures we cannot replace NaN values with 0, hence replacing NaN with its respective mode value\n",
        "df_yes['MinTemp'].fillna(value=df_yes['MinTemp'].mode()[0],inplace=True )\n",
        "df_no['MinTemp'].fillna(value=df_no['MinTemp'].mode()[0],inplace=True )\n",
        "\n",
        "df_yes['MaxTemp'].fillna(value=df_yes['MaxTemp'].mode()[0],inplace=True )\n",
        "df_no['MaxTemp'].fillna(value=df_no['MaxTemp'].mode()[0],inplace=True )\n",
        "\n",
        "\n",
        "df_yes['Temp9am'].fillna(value=df_yes['Temp9am'].mode()[0],inplace=True )\n",
        "df_no['Temp9am'].fillna(value=df_no['Temp9am'].mode()[0],inplace=True )\n",
        "\n",
        "df_yes['Temp3pm'].fillna(value=df_yes['Temp3pm'].mode()[0],inplace=True )\n",
        "df_no['Temp3pm'].fillna(value=df_no['Temp3pm'].mode()[0],inplace=True )\n",
        "\n",
        "\n",
        "# For humidity also \n",
        "df_yes['Humidity9am'].fillna(value=df_yes['Humidity9am'].mode()[0],inplace=True )\n",
        "df_no['Humidity9am'].fillna(value=df_no['Humidity9am'].mode()[0],inplace=True )\n",
        "\n",
        "\n",
        "\n",
        "df_yes['Humidity3pm'].fillna(value=df_yes['Humidity3pm'].mode()[0],inplace=True )\n",
        "df_no['Humidity3pm'].fillna(value=df_no['Humidity3pm'].mode()[0],inplace=True )\n",
        "\n",
        "# For the rain fall feature we can replace NaN with 0.0 which says there is no rain fall\n",
        "df_yes['Rainfall'].fillna(value=0.0,inplace=True)\n",
        "df_no['Rainfall'].fillna(value=0.0,inplace=True)\n",
        "\n",
        "# For the rain fall feature we can replace NaN with 0.0 which says there is no rain fall\n",
        "df_yes['Rainfall'].fillna(value=0.0,inplace=True)\n",
        "df_no['Rainfall'].fillna(value=0.0,inplace=True)\n",
        "\n",
        "\n",
        "df_yes['Pressure9am'].fillna(value=df_yes['Pressure9am'].median(),inplace=True )\n",
        "df_no['Pressure9am'].fillna(value=df_no['Pressure9am'].median(),inplace=True )\n",
        "\n",
        "df_yes['Pressure3pm'].fillna(value=df_yes['Pressure3pm'].median(),inplace=True )\n",
        "df_no['Pressure3pm'].fillna(value=df_no['Pressure3pm'].median(),inplace=True )\n",
        "\n",
        "\n",
        "df_yes['WindSpeed9am'].fillna(value=df_yes['WindSpeed9am'].median(),inplace=True )\n",
        "df_no['WindSpeed9am'].fillna(value=df_no['WindSpeed9am'].median(),inplace=True )\n",
        "\n",
        "df_yes['WindSpeed3pm'].fillna(value=df_yes['WindSpeed3pm'].median(),inplace=True )\n",
        "df_no['WindSpeed3pm'].fillna(value=df_no['WindSpeed3pm'].median(),inplace=True )\n",
        "\n",
        "#WindGustSpeed -- replacing with median\n",
        "df_yes['WindGustSpeed'].fillna(value=df_yes['WindGustSpeed'].median(),inplace=True)\n",
        "df_no['WindGustSpeed'].fillna(value=df_no['WindGustSpeed'].median(),inplace=True)"
      ],
      "execution_count": null,
      "outputs": [
        {
          "output_type": "stream",
          "text": [
            "/usr/local/lib/python3.7/dist-packages/pandas/core/series.py:4536: SettingWithCopyWarning: \n",
            "A value is trying to be set on a copy of a slice from a DataFrame\n",
            "\n",
            "See the caveats in the documentation: https://pandas.pydata.org/pandas-docs/stable/user_guide/indexing.html#returning-a-view-versus-a-copy\n",
            "  downcast=downcast,\n"
          ],
          "name": "stderr"
        }
      ]
    },
    {
      "cell_type": "code",
      "metadata": {
        "colab": {
          "base_uri": "https://localhost:8080/"
        },
        "id": "FG3aIU4NRzNJ",
        "outputId": "55833235-beef-41e6-e9ce-54e2b81a495e"
      },
      "source": [
        "# For RainToday feature we cannot fill any value, so better to remove the NaN values \n",
        "df_yes.dropna(inplace=True)\n",
        "df_no.dropna(inplace=True)"
      ],
      "execution_count": null,
      "outputs": [
        {
          "output_type": "stream",
          "text": [
            "/usr/local/lib/python3.7/dist-packages/ipykernel_launcher.py:2: SettingWithCopyWarning: \n",
            "A value is trying to be set on a copy of a slice from a DataFrame\n",
            "\n",
            "See the caveats in the documentation: https://pandas.pydata.org/pandas-docs/stable/user_guide/indexing.html#returning-a-view-versus-a-copy\n",
            "  \n",
            "/usr/local/lib/python3.7/dist-packages/ipykernel_launcher.py:3: SettingWithCopyWarning: \n",
            "A value is trying to be set on a copy of a slice from a DataFrame\n",
            "\n",
            "See the caveats in the documentation: https://pandas.pydata.org/pandas-docs/stable/user_guide/indexing.html#returning-a-view-versus-a-copy\n",
            "  This is separate from the ipykernel package so we can avoid doing imports until\n"
          ],
          "name": "stderr"
        }
      ]
    },
    {
      "cell_type": "code",
      "metadata": {
        "id": "60O0kwcPR7FB"
      },
      "source": [
        "df_filled= df_yes.append(df_no, ignore_index=True)"
      ],
      "execution_count": null,
      "outputs": []
    },
    {
      "cell_type": "code",
      "metadata": {
        "colab": {
          "base_uri": "https://localhost:8080/"
        },
        "id": "zQ8OOhfvSD0d",
        "outputId": "1e3425c5-b291-483c-b309-4c3c80cfb38c"
      },
      "source": [
        "#checking missing values\n",
        "df_filled.isnull().any()"
      ],
      "execution_count": null,
      "outputs": [
        {
          "output_type": "execute_result",
          "data": {
            "text/plain": [
              "Date             False\n",
              "Location         False\n",
              "MinTemp          False\n",
              "MaxTemp          False\n",
              "Rainfall         False\n",
              "Evaporation      False\n",
              "Sunshine         False\n",
              "WindGustDir      False\n",
              "WindGustSpeed    False\n",
              "WindDir9am       False\n",
              "WindDir3pm       False\n",
              "WindSpeed9am     False\n",
              "WindSpeed3pm     False\n",
              "Humidity9am      False\n",
              "Humidity3pm      False\n",
              "Pressure9am      False\n",
              "Pressure3pm      False\n",
              "Cloud9am         False\n",
              "Cloud3pm         False\n",
              "Temp9am          False\n",
              "Temp3pm          False\n",
              "RainToday        False\n",
              "RainTomorrow     False\n",
              "dtype: bool"
            ]
          },
          "metadata": {
            "tags": []
          },
          "execution_count": 78
        }
      ]
    },
    {
      "cell_type": "code",
      "metadata": {
        "colab": {
          "base_uri": "https://localhost:8080/"
        },
        "id": "bzySk_wCSJ_t",
        "outputId": "93719de3-7b9a-472f-ae7c-4d933191ded1"
      },
      "source": [
        "# checking the uniques\n",
        "df_filled.nunique()"
      ],
      "execution_count": null,
      "outputs": [
        {
          "output_type": "execute_result",
          "data": {
            "text/plain": [
              "Date             3416\n",
              "Location           26\n",
              "MinTemp           351\n",
              "MaxTemp           395\n",
              "Rainfall          410\n",
              "Evaporation       259\n",
              "Sunshine          145\n",
              "WindGustDir        16\n",
              "WindGustSpeed      61\n",
              "WindDir9am         16\n",
              "WindDir3pm         16\n",
              "WindSpeed9am       36\n",
              "WindSpeed3pm       37\n",
              "Humidity9am       101\n",
              "Humidity3pm       101\n",
              "Pressure9am       504\n",
              "Pressure3pm       507\n",
              "Cloud9am            9\n",
              "Cloud3pm           10\n",
              "Temp9am           383\n",
              "Temp3pm           393\n",
              "RainToday           2\n",
              "RainTomorrow        2\n",
              "dtype: int64"
            ]
          },
          "metadata": {
            "tags": []
          },
          "execution_count": 79
        }
      ]
    },
    {
      "cell_type": "markdown",
      "metadata": {
        "id": "JftQykYHTJ3Q"
      },
      "source": [
        "# Exploratory Data Analysis"
      ]
    },
    {
      "cell_type": "code",
      "metadata": {
        "id": "6FugcTXWS8RO"
      },
      "source": [
        "# Rename columns\n",
        "\n",
        "#col_names = df_filled.columns.tolist()\n",
        "#for col in range(len(col_names)):\n",
        " # col_names[col] = col_names[col].lower().replace(\" \", \"_\")\n",
        "\n",
        "#df_filled.columns = col_names"
      ],
      "execution_count": null,
      "outputs": []
    },
    {
      "cell_type": "code",
      "metadata": {
        "colab": {
          "base_uri": "https://localhost:8080/"
        },
        "id": "q6jDOt-MjTK6",
        "outputId": "3611a54d-e07c-4718-f948-6352ca8904d7"
      },
      "source": [
        "# standardizing the column names uniform.\n",
        "\n",
        "df_filled.columns = df_filled.columns.str.replace('_', '').str.strip().str.lower()  # Dealing with the inconsistencies\n",
        "\n",
        "df_filled.columns      # Displaying column names"
      ],
      "execution_count": null,
      "outputs": [
        {
          "output_type": "execute_result",
          "data": {
            "text/plain": [
              "Index(['date', 'location', 'mintemp', 'maxtemp', 'rainfall', 'evaporation',\n",
              "       'sunshine', 'windgustdir', 'windgustspeed', 'winddir9am', 'winddir3pm',\n",
              "       'windspeed9am', 'windspeed3pm', 'humidity9am', 'humidity3pm',\n",
              "       'pressure9am', 'pressure3pm', 'cloud9am', 'cloud3pm', 'temp9am',\n",
              "       'temp3pm', 'raintoday', 'raintomorrow'],\n",
              "      dtype='object')"
            ]
          },
          "metadata": {
            "tags": []
          },
          "execution_count": 81
        }
      ]
    },
    {
      "cell_type": "code",
      "metadata": {
        "colab": {
          "base_uri": "https://localhost:8080/"
        },
        "id": "jGG974gqTQca",
        "outputId": "36bc5054-099a-4df5-c1a2-a98785a93e78"
      },
      "source": [
        "# previewing the columns\n",
        "df_filled.columns"
      ],
      "execution_count": null,
      "outputs": [
        {
          "output_type": "execute_result",
          "data": {
            "text/plain": [
              "Index(['date', 'location', 'mintemp', 'maxtemp', 'rainfall', 'evaporation',\n",
              "       'sunshine', 'windgustdir', 'windgustspeed', 'winddir9am', 'winddir3pm',\n",
              "       'windspeed9am', 'windspeed3pm', 'humidity9am', 'humidity3pm',\n",
              "       'pressure9am', 'pressure3pm', 'cloud9am', 'cloud3pm', 'temp9am',\n",
              "       'temp3pm', 'raintoday', 'raintomorrow'],\n",
              "      dtype='object')"
            ]
          },
          "metadata": {
            "tags": []
          },
          "execution_count": 82
        }
      ]
    },
    {
      "cell_type": "code",
      "metadata": {
        "colab": {
          "base_uri": "https://localhost:8080/"
        },
        "id": "gbCL6vjSTVrt",
        "outputId": "0c1f1991-7780-496f-aa8a-6fc72be706f4"
      },
      "source": [
        "# checking the shape of the new data\n",
        "df_filled.shape"
      ],
      "execution_count": null,
      "outputs": [
        {
          "output_type": "execute_result",
          "data": {
            "text/plain": [
              "(56669, 23)"
            ]
          },
          "metadata": {
            "tags": []
          },
          "execution_count": 83
        }
      ]
    },
    {
      "cell_type": "code",
      "metadata": {
        "colab": {
          "base_uri": "https://localhost:8080/",
          "height": 292
        },
        "id": "x32xzwVWTYsX",
        "outputId": "7154b409-e53c-4021-a180-b5ba9cfaf316"
      },
      "source": [
        "df_filled.head()"
      ],
      "execution_count": null,
      "outputs": [
        {
          "output_type": "execute_result",
          "data": {
            "text/html": [
              "<div>\n",
              "<style scoped>\n",
              "    .dataframe tbody tr th:only-of-type {\n",
              "        vertical-align: middle;\n",
              "    }\n",
              "\n",
              "    .dataframe tbody tr th {\n",
              "        vertical-align: top;\n",
              "    }\n",
              "\n",
              "    .dataframe thead th {\n",
              "        text-align: right;\n",
              "    }\n",
              "</style>\n",
              "<table border=\"1\" class=\"dataframe\">\n",
              "  <thead>\n",
              "    <tr style=\"text-align: right;\">\n",
              "      <th></th>\n",
              "      <th>date</th>\n",
              "      <th>location</th>\n",
              "      <th>mintemp</th>\n",
              "      <th>maxtemp</th>\n",
              "      <th>rainfall</th>\n",
              "      <th>evaporation</th>\n",
              "      <th>sunshine</th>\n",
              "      <th>windgustdir</th>\n",
              "      <th>windgustspeed</th>\n",
              "      <th>winddir9am</th>\n",
              "      <th>winddir3pm</th>\n",
              "      <th>windspeed9am</th>\n",
              "      <th>windspeed3pm</th>\n",
              "      <th>humidity9am</th>\n",
              "      <th>humidity3pm</th>\n",
              "      <th>pressure9am</th>\n",
              "      <th>pressure3pm</th>\n",
              "      <th>cloud9am</th>\n",
              "      <th>cloud3pm</th>\n",
              "      <th>temp9am</th>\n",
              "      <th>temp3pm</th>\n",
              "      <th>raintoday</th>\n",
              "      <th>raintomorrow</th>\n",
              "    </tr>\n",
              "  </thead>\n",
              "  <tbody>\n",
              "    <tr>\n",
              "      <th>0</th>\n",
              "      <td>2009-01-19</td>\n",
              "      <td>Cobar</td>\n",
              "      <td>21.4</td>\n",
              "      <td>37.5</td>\n",
              "      <td>0.0</td>\n",
              "      <td>14.8</td>\n",
              "      <td>6.9</td>\n",
              "      <td>NNE</td>\n",
              "      <td>43.0</td>\n",
              "      <td>ENE</td>\n",
              "      <td>NNE</td>\n",
              "      <td>26.0</td>\n",
              "      <td>9.0</td>\n",
              "      <td>34.0</td>\n",
              "      <td>29.0</td>\n",
              "      <td>1013.1</td>\n",
              "      <td>1009.6</td>\n",
              "      <td>7.0</td>\n",
              "      <td>6.0</td>\n",
              "      <td>26.2</td>\n",
              "      <td>34.1</td>\n",
              "      <td>No</td>\n",
              "      <td>Yes</td>\n",
              "    </tr>\n",
              "    <tr>\n",
              "      <th>1</th>\n",
              "      <td>2009-01-22</td>\n",
              "      <td>Cobar</td>\n",
              "      <td>21.8</td>\n",
              "      <td>30.7</td>\n",
              "      <td>0.0</td>\n",
              "      <td>8.0</td>\n",
              "      <td>5.9</td>\n",
              "      <td>WNW</td>\n",
              "      <td>56.0</td>\n",
              "      <td>N</td>\n",
              "      <td>N</td>\n",
              "      <td>24.0</td>\n",
              "      <td>19.0</td>\n",
              "      <td>71.0</td>\n",
              "      <td>63.0</td>\n",
              "      <td>1008.6</td>\n",
              "      <td>1006.2</td>\n",
              "      <td>7.0</td>\n",
              "      <td>7.0</td>\n",
              "      <td>24.4</td>\n",
              "      <td>27.3</td>\n",
              "      <td>No</td>\n",
              "      <td>Yes</td>\n",
              "    </tr>\n",
              "    <tr>\n",
              "      <th>2</th>\n",
              "      <td>2009-01-23</td>\n",
              "      <td>Cobar</td>\n",
              "      <td>20.3</td>\n",
              "      <td>36.0</td>\n",
              "      <td>18.0</td>\n",
              "      <td>8.2</td>\n",
              "      <td>10.5</td>\n",
              "      <td>WSW</td>\n",
              "      <td>94.0</td>\n",
              "      <td>NNE</td>\n",
              "      <td>NW</td>\n",
              "      <td>13.0</td>\n",
              "      <td>7.0</td>\n",
              "      <td>89.0</td>\n",
              "      <td>50.0</td>\n",
              "      <td>1008.6</td>\n",
              "      <td>1006.7</td>\n",
              "      <td>7.0</td>\n",
              "      <td>4.0</td>\n",
              "      <td>24.7</td>\n",
              "      <td>33.4</td>\n",
              "      <td>Yes</td>\n",
              "      <td>Yes</td>\n",
              "    </tr>\n",
              "    <tr>\n",
              "      <th>3</th>\n",
              "      <td>2009-02-03</td>\n",
              "      <td>Cobar</td>\n",
              "      <td>23.6</td>\n",
              "      <td>40.4</td>\n",
              "      <td>0.6</td>\n",
              "      <td>11.8</td>\n",
              "      <td>12.2</td>\n",
              "      <td>WSW</td>\n",
              "      <td>54.0</td>\n",
              "      <td>E</td>\n",
              "      <td>SSW</td>\n",
              "      <td>9.0</td>\n",
              "      <td>11.0</td>\n",
              "      <td>42.0</td>\n",
              "      <td>17.0</td>\n",
              "      <td>1008.4</td>\n",
              "      <td>1005.0</td>\n",
              "      <td>1.0</td>\n",
              "      <td>2.0</td>\n",
              "      <td>29.9</td>\n",
              "      <td>38.7</td>\n",
              "      <td>No</td>\n",
              "      <td>Yes</td>\n",
              "    </tr>\n",
              "    <tr>\n",
              "      <th>4</th>\n",
              "      <td>2009-02-13</td>\n",
              "      <td>Cobar</td>\n",
              "      <td>16.8</td>\n",
              "      <td>23.3</td>\n",
              "      <td>0.6</td>\n",
              "      <td>8.0</td>\n",
              "      <td>2.3</td>\n",
              "      <td>E</td>\n",
              "      <td>63.0</td>\n",
              "      <td>E</td>\n",
              "      <td>E</td>\n",
              "      <td>35.0</td>\n",
              "      <td>35.0</td>\n",
              "      <td>66.0</td>\n",
              "      <td>53.0</td>\n",
              "      <td>1013.8</td>\n",
              "      <td>1012.2</td>\n",
              "      <td>7.0</td>\n",
              "      <td>7.0</td>\n",
              "      <td>18.5</td>\n",
              "      <td>22.4</td>\n",
              "      <td>No</td>\n",
              "      <td>Yes</td>\n",
              "    </tr>\n",
              "  </tbody>\n",
              "</table>\n",
              "</div>"
            ],
            "text/plain": [
              "        date location  mintemp  ...  temp3pm  raintoday  raintomorrow\n",
              "0 2009-01-19    Cobar     21.4  ...     34.1         No           Yes\n",
              "1 2009-01-22    Cobar     21.8  ...     27.3         No           Yes\n",
              "2 2009-01-23    Cobar     20.3  ...     33.4        Yes           Yes\n",
              "3 2009-02-03    Cobar     23.6  ...     38.7         No           Yes\n",
              "4 2009-02-13    Cobar     16.8  ...     22.4         No           Yes\n",
              "\n",
              "[5 rows x 23 columns]"
            ]
          },
          "metadata": {
            "tags": []
          },
          "execution_count": 84
        }
      ]
    },
    {
      "cell_type": "code",
      "metadata": {
        "id": "4cuz_0-OXs3K"
      },
      "source": [
        "#checcking the numerical and categorical variables\n",
        "numerical = df_filled._get_numeric_data().columns\n",
        "categorical = set(df_filled.columns) - set(numerical)"
      ],
      "execution_count": null,
      "outputs": []
    },
    {
      "cell_type": "code",
      "metadata": {
        "colab": {
          "base_uri": "https://localhost:8080/"
        },
        "id": "brgU68GHWT0N",
        "outputId": "f6bca823-3f37-4a25-9818-486dacfac90f"
      },
      "source": [
        "numerical"
      ],
      "execution_count": null,
      "outputs": [
        {
          "output_type": "execute_result",
          "data": {
            "text/plain": [
              "Index(['mintemp', 'maxtemp', 'rainfall', 'evaporation', 'sunshine',\n",
              "       'windgustspeed', 'windspeed9am', 'windspeed3pm', 'humidity9am',\n",
              "       'humidity3pm', 'pressure9am', 'pressure3pm', 'cloud9am', 'cloud3pm',\n",
              "       'temp9am', 'temp3pm'],\n",
              "      dtype='object')"
            ]
          },
          "metadata": {
            "tags": []
          },
          "execution_count": 86
        }
      ]
    },
    {
      "cell_type": "code",
      "metadata": {
        "colab": {
          "base_uri": "https://localhost:8080/"
        },
        "id": "_QQ23Kl0Xh9w",
        "outputId": "eab4669f-10cf-4e52-e887-1ca297990762"
      },
      "source": [
        "categorical"
      ],
      "execution_count": null,
      "outputs": [
        {
          "output_type": "execute_result",
          "data": {
            "text/plain": [
              "{'date',\n",
              " 'location',\n",
              " 'raintoday',\n",
              " 'raintomorrow',\n",
              " 'winddir3pm',\n",
              " 'winddir9am',\n",
              " 'windgustdir'}"
            ]
          },
          "metadata": {
            "tags": []
          },
          "execution_count": 87
        }
      ]
    },
    {
      "cell_type": "code",
      "metadata": {
        "id": "HMVZQVnIXkKQ"
      },
      "source": [
        "# Get average of columns\n",
        "def mean(col1, col2, colname):\n",
        "  col = df_filled.loc[: , col1:col2]\n",
        "  df_filled[colname] = col.mean(axis=1)"
      ],
      "execution_count": null,
      "outputs": []
    },
    {
      "cell_type": "code",
      "metadata": {
        "id": "IUK5UyCcE_hv"
      },
      "source": [
        "mean(\"windspeed9am\", \"windspeed3pm\", \"avg_windspeed\")\n",
        "mean('humidity9am', 'humidity3pm', 'avg_humidity')\n",
        "mean('pressure9am', 'pressure3pm', 'avg_pressure')\n",
        "mean('cloud9am', 'cloud3pm', 'avg_cloud')\n",
        "mean('mintemp', 'maxtemp', 'avg_temp')\n",
        "mean('temp9am', 'temp3pm', 'avg_temp')"
      ],
      "execution_count": null,
      "outputs": []
    },
    {
      "cell_type": "code",
      "metadata": {
        "colab": {
          "base_uri": "https://localhost:8080/",
          "height": 292
        },
        "id": "qBayraqhFdAX",
        "outputId": "6909980e-5236-4f64-9ad0-6bf7f4f456ce"
      },
      "source": [
        "df_filled.head(5)"
      ],
      "execution_count": null,
      "outputs": [
        {
          "output_type": "execute_result",
          "data": {
            "text/html": [
              "<div>\n",
              "<style scoped>\n",
              "    .dataframe tbody tr th:only-of-type {\n",
              "        vertical-align: middle;\n",
              "    }\n",
              "\n",
              "    .dataframe tbody tr th {\n",
              "        vertical-align: top;\n",
              "    }\n",
              "\n",
              "    .dataframe thead th {\n",
              "        text-align: right;\n",
              "    }\n",
              "</style>\n",
              "<table border=\"1\" class=\"dataframe\">\n",
              "  <thead>\n",
              "    <tr style=\"text-align: right;\">\n",
              "      <th></th>\n",
              "      <th>date</th>\n",
              "      <th>location</th>\n",
              "      <th>mintemp</th>\n",
              "      <th>maxtemp</th>\n",
              "      <th>rainfall</th>\n",
              "      <th>evaporation</th>\n",
              "      <th>sunshine</th>\n",
              "      <th>windgustdir</th>\n",
              "      <th>windgustspeed</th>\n",
              "      <th>winddir9am</th>\n",
              "      <th>winddir3pm</th>\n",
              "      <th>windspeed9am</th>\n",
              "      <th>windspeed3pm</th>\n",
              "      <th>humidity9am</th>\n",
              "      <th>humidity3pm</th>\n",
              "      <th>pressure9am</th>\n",
              "      <th>pressure3pm</th>\n",
              "      <th>cloud9am</th>\n",
              "      <th>cloud3pm</th>\n",
              "      <th>temp9am</th>\n",
              "      <th>temp3pm</th>\n",
              "      <th>raintoday</th>\n",
              "      <th>raintomorrow</th>\n",
              "      <th>avg_windspeed</th>\n",
              "      <th>avg_humidity</th>\n",
              "      <th>avg_pressure</th>\n",
              "      <th>avg_cloud</th>\n",
              "      <th>avg_temp</th>\n",
              "    </tr>\n",
              "  </thead>\n",
              "  <tbody>\n",
              "    <tr>\n",
              "      <th>0</th>\n",
              "      <td>2009-01-19</td>\n",
              "      <td>Cobar</td>\n",
              "      <td>21.4</td>\n",
              "      <td>37.5</td>\n",
              "      <td>0.0</td>\n",
              "      <td>14.8</td>\n",
              "      <td>6.9</td>\n",
              "      <td>NNE</td>\n",
              "      <td>43.0</td>\n",
              "      <td>ENE</td>\n",
              "      <td>NNE</td>\n",
              "      <td>26.0</td>\n",
              "      <td>9.0</td>\n",
              "      <td>34.0</td>\n",
              "      <td>29.0</td>\n",
              "      <td>1013.1</td>\n",
              "      <td>1009.6</td>\n",
              "      <td>7.0</td>\n",
              "      <td>6.0</td>\n",
              "      <td>26.2</td>\n",
              "      <td>34.1</td>\n",
              "      <td>No</td>\n",
              "      <td>Yes</td>\n",
              "      <td>17.5</td>\n",
              "      <td>31.5</td>\n",
              "      <td>1011.35</td>\n",
              "      <td>6.5</td>\n",
              "      <td>30.15</td>\n",
              "    </tr>\n",
              "    <tr>\n",
              "      <th>1</th>\n",
              "      <td>2009-01-22</td>\n",
              "      <td>Cobar</td>\n",
              "      <td>21.8</td>\n",
              "      <td>30.7</td>\n",
              "      <td>0.0</td>\n",
              "      <td>8.0</td>\n",
              "      <td>5.9</td>\n",
              "      <td>WNW</td>\n",
              "      <td>56.0</td>\n",
              "      <td>N</td>\n",
              "      <td>N</td>\n",
              "      <td>24.0</td>\n",
              "      <td>19.0</td>\n",
              "      <td>71.0</td>\n",
              "      <td>63.0</td>\n",
              "      <td>1008.6</td>\n",
              "      <td>1006.2</td>\n",
              "      <td>7.0</td>\n",
              "      <td>7.0</td>\n",
              "      <td>24.4</td>\n",
              "      <td>27.3</td>\n",
              "      <td>No</td>\n",
              "      <td>Yes</td>\n",
              "      <td>21.5</td>\n",
              "      <td>67.0</td>\n",
              "      <td>1007.40</td>\n",
              "      <td>7.0</td>\n",
              "      <td>25.85</td>\n",
              "    </tr>\n",
              "    <tr>\n",
              "      <th>2</th>\n",
              "      <td>2009-01-23</td>\n",
              "      <td>Cobar</td>\n",
              "      <td>20.3</td>\n",
              "      <td>36.0</td>\n",
              "      <td>18.0</td>\n",
              "      <td>8.2</td>\n",
              "      <td>10.5</td>\n",
              "      <td>WSW</td>\n",
              "      <td>94.0</td>\n",
              "      <td>NNE</td>\n",
              "      <td>NW</td>\n",
              "      <td>13.0</td>\n",
              "      <td>7.0</td>\n",
              "      <td>89.0</td>\n",
              "      <td>50.0</td>\n",
              "      <td>1008.6</td>\n",
              "      <td>1006.7</td>\n",
              "      <td>7.0</td>\n",
              "      <td>4.0</td>\n",
              "      <td>24.7</td>\n",
              "      <td>33.4</td>\n",
              "      <td>Yes</td>\n",
              "      <td>Yes</td>\n",
              "      <td>10.0</td>\n",
              "      <td>69.5</td>\n",
              "      <td>1007.65</td>\n",
              "      <td>5.5</td>\n",
              "      <td>29.05</td>\n",
              "    </tr>\n",
              "    <tr>\n",
              "      <th>3</th>\n",
              "      <td>2009-02-03</td>\n",
              "      <td>Cobar</td>\n",
              "      <td>23.6</td>\n",
              "      <td>40.4</td>\n",
              "      <td>0.6</td>\n",
              "      <td>11.8</td>\n",
              "      <td>12.2</td>\n",
              "      <td>WSW</td>\n",
              "      <td>54.0</td>\n",
              "      <td>E</td>\n",
              "      <td>SSW</td>\n",
              "      <td>9.0</td>\n",
              "      <td>11.0</td>\n",
              "      <td>42.0</td>\n",
              "      <td>17.0</td>\n",
              "      <td>1008.4</td>\n",
              "      <td>1005.0</td>\n",
              "      <td>1.0</td>\n",
              "      <td>2.0</td>\n",
              "      <td>29.9</td>\n",
              "      <td>38.7</td>\n",
              "      <td>No</td>\n",
              "      <td>Yes</td>\n",
              "      <td>10.0</td>\n",
              "      <td>29.5</td>\n",
              "      <td>1006.70</td>\n",
              "      <td>1.5</td>\n",
              "      <td>34.30</td>\n",
              "    </tr>\n",
              "    <tr>\n",
              "      <th>4</th>\n",
              "      <td>2009-02-13</td>\n",
              "      <td>Cobar</td>\n",
              "      <td>16.8</td>\n",
              "      <td>23.3</td>\n",
              "      <td>0.6</td>\n",
              "      <td>8.0</td>\n",
              "      <td>2.3</td>\n",
              "      <td>E</td>\n",
              "      <td>63.0</td>\n",
              "      <td>E</td>\n",
              "      <td>E</td>\n",
              "      <td>35.0</td>\n",
              "      <td>35.0</td>\n",
              "      <td>66.0</td>\n",
              "      <td>53.0</td>\n",
              "      <td>1013.8</td>\n",
              "      <td>1012.2</td>\n",
              "      <td>7.0</td>\n",
              "      <td>7.0</td>\n",
              "      <td>18.5</td>\n",
              "      <td>22.4</td>\n",
              "      <td>No</td>\n",
              "      <td>Yes</td>\n",
              "      <td>35.0</td>\n",
              "      <td>59.5</td>\n",
              "      <td>1013.00</td>\n",
              "      <td>7.0</td>\n",
              "      <td>20.45</td>\n",
              "    </tr>\n",
              "  </tbody>\n",
              "</table>\n",
              "</div>"
            ],
            "text/plain": [
              "        date location  mintemp  ...  avg_pressure  avg_cloud  avg_temp\n",
              "0 2009-01-19    Cobar     21.4  ...       1011.35        6.5     30.15\n",
              "1 2009-01-22    Cobar     21.8  ...       1007.40        7.0     25.85\n",
              "2 2009-01-23    Cobar     20.3  ...       1007.65        5.5     29.05\n",
              "3 2009-02-03    Cobar     23.6  ...       1006.70        1.5     34.30\n",
              "4 2009-02-13    Cobar     16.8  ...       1013.00        7.0     20.45\n",
              "\n",
              "[5 rows x 28 columns]"
            ]
          },
          "metadata": {
            "tags": []
          },
          "execution_count": 90
        }
      ]
    },
    {
      "cell_type": "markdown",
      "metadata": {
        "id": "Pyrl2g2NJg1t"
      },
      "source": [
        "#Univariate analysis"
      ]
    },
    {
      "cell_type": "markdown",
      "metadata": {
        "id": "QKutGivWJzgo"
      },
      "source": [
        "* Categorical variables"
      ]
    },
    {
      "cell_type": "code",
      "metadata": {
        "colab": {
          "base_uri": "https://localhost:8080/"
        },
        "id": "t96VVpDZT3nF",
        "outputId": "16a95757-5577-485f-aa5c-afba245dbace"
      },
      "source": [
        "df_filled['raintomorrow'].value_counts()"
      ],
      "execution_count": null,
      "outputs": [
        {
          "output_type": "execute_result",
          "data": {
            "text/plain": [
              "No     44168\n",
              "Yes    12501\n",
              "Name: raintomorrow, dtype: int64"
            ]
          },
          "metadata": {
            "tags": []
          },
          "execution_count": 91
        }
      ]
    },
    {
      "cell_type": "code",
      "metadata": {
        "colab": {
          "base_uri": "https://localhost:8080/"
        },
        "id": "bo1JJsXkTAJb",
        "outputId": "e93495a8-55e8-4c40-e044-855da210b7d8"
      },
      "source": [
        "df_filled['raintomorrow'].value_counts()/len(df)"
      ],
      "execution_count": null,
      "outputs": [
        {
          "output_type": "execute_result",
          "data": {
            "text/plain": [
              "No     0.303644\n",
              "Yes    0.085941\n",
              "Name: raintomorrow, dtype: float64"
            ]
          },
          "metadata": {
            "tags": []
          },
          "execution_count": 92
        }
      ]
    },
    {
      "cell_type": "code",
      "metadata": {
        "colab": {
          "base_uri": "https://localhost:8080/",
          "height": 502
        },
        "id": "Q9wVZO6UTqUv",
        "outputId": "1bc7fab9-006c-4799-d6e8-7f8a7ef7dc62"
      },
      "source": [
        "f, ax = plt.subplots(figsize=(6, 8))\n",
        "ax = sns.countplot(x=\"raintomorrow\", data=df_filled, palette=\"Set1\")\n",
        "plt.show()"
      ],
      "execution_count": null,
      "outputs": [
        {
          "output_type": "display_data",
          "data": {
            "image/png": "[encoded data removed]",
            "text/plain": [
              "<Figure size 432x576 with 1 Axes>"
            ]
          },
          "metadata": {
            "tags": []
          }
        }
      ]
    },
    {
      "cell_type": "code",
      "metadata": {
        "colab": {
          "base_uri": "https://localhost:8080/",
          "height": 285
        },
        "id": "oBeK3CqXSuuz",
        "outputId": "75941652-4691-4555-f0a3-e8a4a20316b4"
      },
      "source": [
        "#PLOTTING HORIZONTALLY\n",
        "f, ax = plt.subplots(figsize=(8, 4))\n",
        "ax = sns.countplot(y=\"raintomorrow\", data=df_filled, palette=\"Set1\")\n",
        "plt.show()"
      ],
      "execution_count": null,
      "outputs": [
        {
          "output_type": "display_data",
          "data": {
            "image/png": "[encoded data removed]",
            "text/plain": [
              "<Figure size 576x288 with 1 Axes>"
            ]
          },
          "metadata": {
            "tags": []
          }
        }
      ]
    },
    {
      "cell_type": "markdown",
      "metadata": {
        "id": "ZbTDtUUQTCVj"
      },
      "source": [
        "\n",
        "The number of unique values in RainTomorrow and RainToday variable is 2.\n",
        "\n",
        "The two unique values are No and Yes.\n",
        "\n",
        "Out of the total number of RainTomorrow values, No appears 30% times and Yes appears 8% times.\n",
        "\n",
        "The univariate plot confirms our findings that –\n",
        "\n",
        "The No variable have 44168 entries, and\n",
        "\n",
        "The Yes variable have 12501 entries.\n",
        "\n"
      ]
    },
    {
      "cell_type": "markdown",
      "metadata": {
        "id": "pfgo2bSkVwRo"
      },
      "source": [
        "* Numerical Variables\n"
      ]
    },
    {
      "cell_type": "markdown",
      "metadata": {
        "id": "f5sBqbOHPoQU"
      },
      "source": [
        "##### Measures of central tendency"
      ]
    },
    {
      "cell_type": "code",
      "metadata": {
        "colab": {
          "base_uri": "https://localhost:8080/"
        },
        "id": "iO_uQjCVLfFy",
        "outputId": "c0afbb3c-870b-4e9b-a5f1-92fd6211de92"
      },
      "source": [
        "#  Mean, mode and median for taken MinTemp \n",
        "print('The mean for mintemp', df_filled.mintemp.mean())\n",
        "print('The median mintemp',df_filled.mintemp.median())\n",
        "print('The mode for mintemp ', df_filled.mintemp.mode())\n",
        "print('The std for mintemp ', df_filled.mintemp.std())"
      ],
      "execution_count": null,
      "outputs": [
        {
          "output_type": "stream",
          "text": [
            "The mean for mintemp 13.455949460904407\n",
            "The median mintemp 13.2\n",
            "The mode for mintemp  0    13.0\n",
            "dtype: float64\n",
            "The std for mintemp  6.415744692366765\n"
          ],
          "name": "stdout"
        }
      ]
    },
    {
      "cell_type": "code",
      "metadata": {
        "colab": {
          "base_uri": "https://localhost:8080/"
        },
        "id": "VMbR3vgjP_4S",
        "outputId": "6515c6f9-9736-4e03-fe7a-7da895f74fcd"
      },
      "source": [
        "#  Mean, mode and median for taken MAXTEMP \n",
        "print('The mean for maxtemp', df_filled.maxtemp.mean())\n",
        "print('The median maxtemp',df_filled.maxtemp.median())\n",
        "print('The mode for maxtemp ', df_filled.maxtemp.mode())\n",
        "print('The std for maxtemp ', df_filled.maxtemp.std())"
      ],
      "execution_count": null,
      "outputs": [
        {
          "output_type": "stream",
          "text": [
            "The mean for maxtemp 24.208424358996904\n",
            "The median maxtemp 23.9\n",
            "The mode for maxtemp  0    19.6\n",
            "dtype: float64\n",
            "The std for maxtemp  6.973225142583974\n"
          ],
          "name": "stdout"
        }
      ]
    },
    {
      "cell_type": "markdown",
      "metadata": {
        "id": "IqosRr4bV7Ay"
      },
      "source": [
        "#####Checking outliers in numerical columns"
      ]
    },
    {
      "cell_type": "code",
      "metadata": {
        "colab": {
          "base_uri": "https://localhost:8080/",
          "height": 1000
        },
        "id": "Odg8d30uRZib",
        "outputId": "e4fad530-3522-46e1-d870-4985477df7ff"
      },
      "source": [
        "num_of_rows = 4\n",
        "num_of_cols = 4\n",
        "fig, ax = plt.subplots(num_of_rows, num_of_cols, figsize=(15,15))\n",
        "print(numerical)\n",
        "i=0;j=0;k=0;\n",
        "while i<num_of_rows:\n",
        "    while j<num_of_cols:\n",
        "        sns.boxplot(df_filled[numerical[k]], ax=ax[i, j])\n",
        "        k+=1;j+=1\n",
        "    j=0;i+=1\n",
        "plt.savefig('before_removing_outliers_from_numerical_columns.png')\n",
        "plt.show()"
      ],
      "execution_count": null,
      "outputs": [
        {
          "output_type": "stream",
          "text": [
            "Index(['mintemp', 'maxtemp', 'rainfall', 'evaporation', 'sunshine',\n",
            "       'windgustspeed', 'windspeed9am', 'windspeed3pm', 'humidity9am',\n",
            "       'humidity3pm', 'pressure9am', 'pressure3pm', 'cloud9am', 'cloud3pm',\n",
            "       'temp9am', 'temp3pm'],\n",
            "      dtype='object')\n"
          ],
          "name": "stdout"
        },
        {
          "output_type": "stream",
          "text": [
            "/usr/local/lib/python3.7/dist-packages/seaborn/_decorators.py:43: FutureWarning: Pass the following variable as a keyword arg: x. From version 0.12, the only valid positional argument will be `data`, and passing other arguments without an explicit keyword will result in an error or misinterpretation.\n",
            "  FutureWarning\n",
            "/usr/local/lib/python3.7/dist-packages/seaborn/_decorators.py:43: FutureWarning: Pass the following variable as a keyword arg: x. From version 0.12, the only valid positional argument will be `data`, and passing other arguments without an explicit keyword will result in an error or misinterpretation.\n",
            "  FutureWarning\n",
            "/usr/local/lib/python3.7/dist-packages/seaborn/_decorators.py:43: FutureWarning: Pass the following variable as a keyword arg: x. From version 0.12, the only valid positional argument will be `data`, and passing other arguments without an explicit keyword will result in an error or misinterpretation.\n",
            "  FutureWarning\n",
            "/usr/local/lib/python3.7/dist-packages/seaborn/_decorators.py:43: FutureWarning: Pass the following variable as a keyword arg: x. From version 0.12, the only valid positional argument will be `data`, and passing other arguments without an explicit keyword will result in an error or misinterpretation.\n",
            "  FutureWarning\n",
            "/usr/local/lib/python3.7/dist-packages/seaborn/_decorators.py:43: FutureWarning: Pass the following variable as a keyword arg: x. From version 0.12, the only valid positional argument will be `data`, and passing other arguments without an explicit keyword will result in an error or misinterpretation.\n",
            "  FutureWarning\n",
            "/usr/local/lib/python3.7/dist-packages/seaborn/_decorators.py:43: FutureWarning: Pass the following variable as a keyword arg: x. From version 0.12, the only valid positional argument will be `data`, and passing other arguments without an explicit keyword will result in an error or misinterpretation.\n",
            "  FutureWarning\n",
            "/usr/local/lib/python3.7/dist-packages/seaborn/_decorators.py:43: FutureWarning: Pass the following variable as a keyword arg: x. From version 0.12, the only valid positional argument will be `data`, and passing other arguments without an explicit keyword will result in an error or misinterpretation.\n",
            "  FutureWarning\n",
            "/usr/local/lib/python3.7/dist-packages/seaborn/_decorators.py:43: FutureWarning: Pass the following variable as a keyword arg: x. From version 0.12, the only valid positional argument will be `data`, and passing other arguments without an explicit keyword will result in an error or misinterpretation.\n",
            "  FutureWarning\n",
            "/usr/local/lib/python3.7/dist-packages/seaborn/_decorators.py:43: FutureWarning: Pass the following variable as a keyword arg: x. From version 0.12, the only valid positional argument will be `data`, and passing other arguments without an explicit keyword will result in an error or misinterpretation.\n",
            "  FutureWarning\n",
            "/usr/local/lib/python3.7/dist-packages/seaborn/_decorators.py:43: FutureWarning: Pass the following variable as a keyword arg: x. From version 0.12, the only valid positional argument will be `data`, and passing other arguments without an explicit keyword will result in an error or misinterpretation.\n",
            "  FutureWarning\n",
            "/usr/local/lib/python3.7/dist-packages/seaborn/_decorators.py:43: FutureWarning: Pass the following variable as a keyword arg: x. From version 0.12, the only valid positional argument will be `data`, and passing other arguments without an explicit keyword will result in an error or misinterpretation.\n",
            "  FutureWarning\n",
            "/usr/local/lib/python3.7/dist-packages/seaborn/_decorators.py:43: FutureWarning: Pass the following variable as a keyword arg: x. From version 0.12, the only valid positional argument will be `data`, and passing other arguments without an explicit keyword will result in an error or misinterpretation.\n",
            "  FutureWarning\n",
            "/usr/local/lib/python3.7/dist-packages/seaborn/_decorators.py:43: FutureWarning: Pass the following variable as a keyword arg: x. From version 0.12, the only valid positional argument will be `data`, and passing other arguments without an explicit keyword will result in an error or misinterpretation.\n",
            "  FutureWarning\n",
            "/usr/local/lib/python3.7/dist-packages/seaborn/_decorators.py:43: FutureWarning: Pass the following variable as a keyword arg: x. From version 0.12, the only valid positional argument will be `data`, and passing other arguments without an explicit keyword will result in an error or misinterpretation.\n",
            "  FutureWarning\n",
            "/usr/local/lib/python3.7/dist-packages/seaborn/_decorators.py:43: FutureWarning: Pass the following variable as a keyword arg: x. From version 0.12, the only valid positional argument will be `data`, and passing other arguments without an explicit keyword will result in an error or misinterpretation.\n",
            "  FutureWarning\n",
            "/usr/local/lib/python3.7/dist-packages/seaborn/_decorators.py:43: FutureWarning: Pass the following variable as a keyword arg: x. From version 0.12, the only valid positional argument will be `data`, and passing other arguments without an explicit keyword will result in an error or misinterpretation.\n",
            "  FutureWarning\n"
          ],
          "name": "stderr"
        },
        {
          "output_type": "display_data",
          "data": {
            "image/png": "[encoded data removed]",
            "text/plain": [
              "<Figure size 1080x1080 with 16 Axes>"
            ]
          },
          "metadata": {
            "tags": []
          }
        }
      ]
    },
    {
      "cell_type": "markdown",
      "metadata": {
        "id": "-_l4WGANXCUW"
      },
      "source": [
        "* Removing outliers in the numerical columns"
      ]
    },
    {
      "cell_type": "code",
      "metadata": {
        "id": "P2pk9oDjWE9_"
      },
      "source": [
        "lsUpper = []\n",
        "lsLower = []\n",
        "def removeOutliers(numerical):\n",
        "    for i in range(len(numerical)):\n",
        "        q1 = df_filled[numerical[i]].quantile(0.25)\n",
        "        q3 = df_filled[numerical[i]].quantile(0.75)\n",
        "        IQR = q3-q1\n",
        "        minimum = q1 - 1.5 * IQR\n",
        "        maximum = q3 + 1.5 * IQR\n",
        "        df_filled.loc[(df_filled[numerical[i]] <= minimum), numerical[i]] = minimum\n",
        "        df_filled.loc[(df_filled[numerical[i]] >= maximum), numerical[i]] = maximum  \n",
        "removeOutliers(numerical)"
      ],
      "execution_count": null,
      "outputs": []
    },
    {
      "cell_type": "code",
      "metadata": {
        "colab": {
          "base_uri": "https://localhost:8080/"
        },
        "id": "2HZA3WjeWTf5",
        "outputId": "f93e7201-6a8f-4d8a-8b59-bf8b6198d2e3"
      },
      "source": [
        "num_of_rows = 4\n",
        "num_of_cols = 4\n",
        "fig, ax = plt.subplots(num_of_rows, num_of_cols, figsize=(15,15))\n",
        "print(numerical)\n",
        "i=0;j=0;k=0;\n",
        "while i<num_of_rows:\n",
        "    while j<num_of_cols:\n",
        "        sns.boxplot(df_filled[numerical[k]], ax=ax[i, j])\n",
        "        k+=1;j+=1\n",
        "    j=0;i+=1\n",
        "plt.savefig('after_removing_outliers_from_numerical_columns.png')\n",
        "plt.show()"
      ],
      "execution_count": null,
      "outputs": [
        {
          "output_type": "stream",
          "text": [
            "Index(['mintemp', 'maxtemp', 'rainfall', 'evaporation', 'sunshine',\n",
            "       'windgustspeed', 'windspeed9am', 'windspeed3pm', 'humidity9am',\n",
            "       'humidity3pm', 'pressure9am', 'pressure3pm', 'cloud9am', 'cloud3pm',\n",
            "       'temp9am', 'temp3pm'],\n",
            "      dtype='object')\n"
          ],
          "name": "stdout"
        },
        {
          "output_type": "stream",
          "text": [
            "/usr/local/lib/python3.7/dist-packages/seaborn/_decorators.py:43: FutureWarning: Pass the following variable as a keyword arg: x. From version 0.12, the only valid positional argument will be `data`, and passing other arguments without an explicit keyword will result in an error or misinterpretation.\n",
            "  FutureWarning\n",
            "/usr/local/lib/python3.7/dist-packages/seaborn/_decorators.py:43: FutureWarning: Pass the following variable as a keyword arg: x. From version 0.12, the only valid positional argument will be `data`, and passing other arguments without an explicit keyword will result in an error or misinterpretation.\n",
            "  FutureWarning\n",
            "/usr/local/lib/python3.7/dist-packages/seaborn/_decorators.py:43: FutureWarning: Pass the following variable as a keyword arg: x. From version 0.12, the only valid positional argument will be `data`, and passing other arguments without an explicit keyword will result in an error or misinterpretation.\n",
            "  FutureWarning\n",
            "/usr/local/lib/python3.7/dist-packages/seaborn/_decorators.py:43: FutureWarning: Pass the following variable as a keyword arg: x. From version 0.12, the only valid positional argument will be `data`, and passing other arguments without an explicit keyword will result in an error or misinterpretation.\n",
            "  FutureWarning\n",
            "/usr/local/lib/python3.7/dist-packages/seaborn/_decorators.py:43: FutureWarning: Pass the following variable as a keyword arg: x. From version 0.12, the only valid positional argument will be `data`, and passing other arguments without an explicit keyword will result in an error or misinterpretation.\n",
            "  FutureWarning\n",
            "/usr/local/lib/python3.7/dist-packages/seaborn/_decorators.py:43: FutureWarning: Pass the following variable as a keyword arg: x. From version 0.12, the only valid positional argument will be `data`, and passing other arguments without an explicit keyword will result in an error or misinterpretation.\n",
            "  FutureWarning\n",
            "/usr/local/lib/python3.7/dist-packages/seaborn/_decorators.py:43: FutureWarning: Pass the following variable as a keyword arg: x. From version 0.12, the only valid positional argument will be `data`, and passing other arguments without an explicit keyword will result in an error or misinterpretation.\n",
            "  FutureWarning\n",
            "/usr/local/lib/python3.7/dist-packages/seaborn/_decorators.py:43: FutureWarning: Pass the following variable as a keyword arg: x. From version 0.12, the only valid positional argument will be `data`, and passing other arguments without an explicit keyword will result in an error or misinterpretation.\n",
            "  FutureWarning\n",
            "/usr/local/lib/python3.7/dist-packages/seaborn/_decorators.py:43: FutureWarning: Pass the following variable as a keyword arg: x. From version 0.12, the only valid positional argument will be `data`, and passing other arguments without an explicit keyword will result in an error or misinterpretation.\n",
            "  FutureWarning\n",
            "/usr/local/lib/python3.7/dist-packages/seaborn/_decorators.py:43: FutureWarning: Pass the following variable as a keyword arg: x. From version 0.12, the only valid positional argument will be `data`, and passing other arguments without an explicit keyword will result in an error or misinterpretation.\n",
            "  FutureWarning\n",
            "/usr/local/lib/python3.7/dist-packages/seaborn/_decorators.py:43: FutureWarning: Pass the following variable as a keyword arg: x. From version 0.12, the only valid positional argument will be `data`, and passing other arguments without an explicit keyword will result in an error or misinterpretation.\n",
            "  FutureWarning\n",
            "/usr/local/lib/python3.7/dist-packages/seaborn/_decorators.py:43: FutureWarning: Pass the following variable as a keyword arg: x. From version 0.12, the only valid positional argument will be `data`, and passing other arguments without an explicit keyword will result in an error or misinterpretation.\n",
            "  FutureWarning\n",
            "/usr/local/lib/python3.7/dist-packages/seaborn/_decorators.py:43: FutureWarning: Pass the following variable as a keyword arg: x. From version 0.12, the only valid positional argument will be `data`, and passing other arguments without an explicit keyword will result in an error or misinterpretation.\n",
            "  FutureWarning\n",
            "/usr/local/lib/python3.7/dist-packages/seaborn/_decorators.py:43: FutureWarning: Pass the following variable as a keyword arg: x. From version 0.12, the only valid positional argument will be `data`, and passing other arguments without an explicit keyword will result in an error or misinterpretation.\n",
            "  FutureWarning\n",
            "/usr/local/lib/python3.7/dist-packages/seaborn/_decorators.py:43: FutureWarning: Pass the following variable as a keyword arg: x. From version 0.12, the only valid positional argument will be `data`, and passing other arguments without an explicit keyword will result in an error or misinterpretation.\n",
            "  FutureWarning\n",
            "/usr/local/lib/python3.7/dist-packages/seaborn/_decorators.py:43: FutureWarning: Pass the following variable as a keyword arg: x. From version 0.12, the only valid positional argument will be `data`, and passing other arguments without an explicit keyword will result in an error or misinterpretation.\n",
            "  FutureWarning\n"
          ],
          "name": "stderr"
        },
        {
          "output_type": "display_data",
          "data": {
            "image/png": "[encoded data removed]",
            "text/plain": [
              "<Figure size 1080x1080 with 16 Axes>"
            ]
          },
          "metadata": {
            "tags": []
          }
        }
      ]
    },
    {
      "cell_type": "markdown",
      "metadata": {
        "id": "Q3wTriQwXLjl"
      },
      "source": [
        "* Distribution of the numerical columns\n"
      ]
    },
    {
      "cell_type": "code",
      "metadata": {
        "colab": {
          "base_uri": "https://localhost:8080/",
          "height": 1000
        },
        "id": "pdin7-OcWcaZ",
        "outputId": "bc8804de-fd72-4a3c-b9ad-91474de3be5a"
      },
      "source": [
        "def plotHist():\n",
        "    fig, ax =plt.subplots(5,3, figsize=(15,15))\n",
        "    i=0;j=0;k=0\n",
        "    while i<=4:\n",
        "        while j<=2:\n",
        "            sns.distplot(df_filled[numerical[k]], ax=ax[i, j])\n",
        "            j+=1;k+=1\n",
        "        j=0;i+=1;\n",
        "    plt.savefig('distribution_after_removing_outliers_from_numerical_columns.png')\n",
        "    plt.show()\n",
        "plotHist()"
      ],
      "execution_count": null,
      "outputs": [
        {
          "output_type": "stream",
          "text": [
            "/usr/local/lib/python3.7/dist-packages/seaborn/distributions.py:2557: FutureWarning: `distplot` is a deprecated function and will be removed in a future version. Please adapt your code to use either `displot` (a figure-level function with similar flexibility) or `histplot` (an axes-level function for histograms).\n",
            "  warnings.warn(msg, FutureWarning)\n",
            "/usr/local/lib/python3.7/dist-packages/seaborn/distributions.py:2557: FutureWarning: `distplot` is a deprecated function and will be removed in a future version. Please adapt your code to use either `displot` (a figure-level function with similar flexibility) or `histplot` (an axes-level function for histograms).\n",
            "  warnings.warn(msg, FutureWarning)\n",
            "/usr/local/lib/python3.7/dist-packages/seaborn/distributions.py:2557: FutureWarning: `distplot` is a deprecated function and will be removed in a future version. Please adapt your code to use either `displot` (a figure-level function with similar flexibility) or `histplot` (an axes-level function for histograms).\n",
            "  warnings.warn(msg, FutureWarning)\n",
            "/usr/local/lib/python3.7/dist-packages/seaborn/distributions.py:2557: FutureWarning: `distplot` is a deprecated function and will be removed in a future version. Please adapt your code to use either `displot` (a figure-level function with similar flexibility) or `histplot` (an axes-level function for histograms).\n",
            "  warnings.warn(msg, FutureWarning)\n",
            "/usr/local/lib/python3.7/dist-packages/seaborn/distributions.py:2557: FutureWarning: `distplot` is a deprecated function and will be removed in a future version. Please adapt your code to use either `displot` (a figure-level function with similar flexibility) or `histplot` (an axes-level function for histograms).\n",
            "  warnings.warn(msg, FutureWarning)\n",
            "/usr/local/lib/python3.7/dist-packages/seaborn/distributions.py:2557: FutureWarning: `distplot` is a deprecated function and will be removed in a future version. Please adapt your code to use either `displot` (a figure-level function with similar flexibility) or `histplot` (an axes-level function for histograms).\n",
            "  warnings.warn(msg, FutureWarning)\n",
            "/usr/local/lib/python3.7/dist-packages/seaborn/distributions.py:2557: FutureWarning: `distplot` is a deprecated function and will be removed in a future version. Please adapt your code to use either `displot` (a figure-level function with similar flexibility) or `histplot` (an axes-level function for histograms).\n",
            "  warnings.warn(msg, FutureWarning)\n",
            "/usr/local/lib/python3.7/dist-packages/seaborn/distributions.py:2557: FutureWarning: `distplot` is a deprecated function and will be removed in a future version. Please adapt your code to use either `displot` (a figure-level function with similar flexibility) or `histplot` (an axes-level function for histograms).\n",
            "  warnings.warn(msg, FutureWarning)\n",
            "/usr/local/lib/python3.7/dist-packages/seaborn/distributions.py:2557: FutureWarning: `distplot` is a deprecated function and will be removed in a future version. Please adapt your code to use either `displot` (a figure-level function with similar flexibility) or `histplot` (an axes-level function for histograms).\n",
            "  warnings.warn(msg, FutureWarning)\n",
            "/usr/local/lib/python3.7/dist-packages/seaborn/distributions.py:2557: FutureWarning: `distplot` is a deprecated function and will be removed in a future version. Please adapt your code to use either `displot` (a figure-level function with similar flexibility) or `histplot` (an axes-level function for histograms).\n",
            "  warnings.warn(msg, FutureWarning)\n",
            "/usr/local/lib/python3.7/dist-packages/seaborn/distributions.py:2557: FutureWarning: `distplot` is a deprecated function and will be removed in a future version. Please adapt your code to use either `displot` (a figure-level function with similar flexibility) or `histplot` (an axes-level function for histograms).\n",
            "  warnings.warn(msg, FutureWarning)\n",
            "/usr/local/lib/python3.7/dist-packages/seaborn/distributions.py:2557: FutureWarning: `distplot` is a deprecated function and will be removed in a future version. Please adapt your code to use either `displot` (a figure-level function with similar flexibility) or `histplot` (an axes-level function for histograms).\n",
            "  warnings.warn(msg, FutureWarning)\n",
            "/usr/local/lib/python3.7/dist-packages/seaborn/distributions.py:2557: FutureWarning: `distplot` is a deprecated function and will be removed in a future version. Please adapt your code to use either `displot` (a figure-level function with similar flexibility) or `histplot` (an axes-level function for histograms).\n",
            "  warnings.warn(msg, FutureWarning)\n",
            "/usr/local/lib/python3.7/dist-packages/seaborn/distributions.py:2557: FutureWarning: `distplot` is a deprecated function and will be removed in a future version. Please adapt your code to use either `displot` (a figure-level function with similar flexibility) or `histplot` (an axes-level function for histograms).\n",
            "  warnings.warn(msg, FutureWarning)\n",
            "/usr/local/lib/python3.7/dist-packages/seaborn/distributions.py:2557: FutureWarning: `distplot` is a deprecated function and will be removed in a future version. Please adapt your code to use either `displot` (a figure-level function with similar flexibility) or `histplot` (an axes-level function for histograms).\n",
            "  warnings.warn(msg, FutureWarning)\n"
          ],
          "name": "stderr"
        },
        {
          "output_type": "display_data",
          "data": {
            "image/png": "[encoded data removed]",
            "text/plain": [
              "<Figure size 1080x1080 with 15 Axes>"
            ]
          },
          "metadata": {
            "tags": []
          }
        }
      ]
    },
    {
      "cell_type": "markdown",
      "metadata": {
        "id": "KeFWd1fCXiJe"
      },
      "source": [
        "# Bivariate Analysis"
      ]
    },
    {
      "cell_type": "code",
      "metadata": {
        "id": "BQ0kjnaU8LoE"
      },
      "source": [
        "# preparing data frame for bivariate analysis\n",
        "\n",
        "selected_columns= df_filled[['date', 'location', 'mintemp', 'maxtemp', 'rainfall', 'evaporation',\n",
        "       'sunshine', 'windgustdir', 'windgustspeed', 'raintoday', 'raintomorrow']]\n",
        "\n",
        "df_biv=selected_columns.copy()"
      ],
      "execution_count": null,
      "outputs": []
    },
    {
      "cell_type": "code",
      "metadata": {
        "id": "B2VhoZJB7X1M"
      },
      "source": [
        "# Get average of columns\n",
        "def mean(col1, col2, colname):\n",
        "  col = df_filled.loc[: , col1:col2]\n",
        "  df_filled[colname] = col.mean(axis=1)"
      ],
      "execution_count": null,
      "outputs": []
    },
    {
      "cell_type": "code",
      "metadata": {
        "id": "ol8OVF-B7hTq",
        "colab": {
          "base_uri": "https://localhost:8080/",
          "height": 540
        },
        "outputId": "60fba587-f392-4e68-8866-a8ac9f9c1598"
      },
      "source": [
        "# implementing the function on the columns\n",
        "\n",
        "mean(\"Windspeed9am\", \"Windspeed3pm\", \"Avg_Windspeed\")\n",
        "mean('Humidity9am', 'Humidity3pm', 'Avg_Humidity')\n",
        "mean('Pressure9am', 'Pressure3pm', 'Avg_Pressure')\n",
        "mean('Cloud9am', 'Cloud3pm', 'Avg_Cloud')\n",
        "mean('Mintemp', 'Maxtemp', 'Avg_Temp')\n",
        "mean('Temp9am', 'Temp3pm', 'Avg_Temp')"
      ],
      "execution_count": null,
      "outputs": [
        {
          "output_type": "error",
          "ename": "KeyError",
          "evalue": "ignored",
          "traceback": [
            "\u001b[0;31m---------------------------------------------------------------------------\u001b[0m",
            "\u001b[0;31mKeyError\u001b[0m                                  Traceback (most recent call last)",
            "\u001b[0;32m/usr/local/lib/python3.7/dist-packages/pandas/core/indexes/base.py\u001b[0m in \u001b[0;36mget_loc\u001b[0;34m(self, key, method, tolerance)\u001b[0m\n\u001b[1;32m   2897\u001b[0m             \u001b[0;32mtry\u001b[0m\u001b[0;34m:\u001b[0m\u001b[0;34m\u001b[0m\u001b[0;34m\u001b[0m\u001b[0m\n\u001b[0;32m-> 2898\u001b[0;31m                 \u001b[0;32mreturn\u001b[0m \u001b[0mself\u001b[0m\u001b[0;34m.\u001b[0m\u001b[0m_engine\u001b[0m\u001b[0;34m.\u001b[0m\u001b[0mget_loc\u001b[0m\u001b[0;34m(\u001b[0m\u001b[0mcasted_key\u001b[0m\u001b[0;34m)\u001b[0m\u001b[0;34m\u001b[0m\u001b[0;34m\u001b[0m\u001b[0m\n\u001b[0m\u001b[1;32m   2899\u001b[0m             \u001b[0;32mexcept\u001b[0m \u001b[0mKeyError\u001b[0m \u001b[0;32mas\u001b[0m \u001b[0merr\u001b[0m\u001b[0;34m:\u001b[0m\u001b[0;34m\u001b[0m\u001b[0;34m\u001b[0m\u001b[0m\n",
            "\u001b[0;32mpandas/_libs/index.pyx\u001b[0m in \u001b[0;36mpandas._libs.index.IndexEngine.get_loc\u001b[0;34m()\u001b[0m\n",
            "\u001b[0;32mpandas/_libs/index.pyx\u001b[0m in \u001b[0;36mpandas._libs.index.IndexEngine.get_loc\u001b[0;34m()\u001b[0m\n",
            "\u001b[0;32mpandas/_libs/hashtable_class_helper.pxi\u001b[0m in \u001b[0;36mpandas._libs.hashtable.PyObjectHashTable.get_item\u001b[0;34m()\u001b[0m\n",
            "\u001b[0;32mpandas/_libs/hashtable_class_helper.pxi\u001b[0m in \u001b[0;36mpandas._libs.hashtable.PyObjectHashTable.get_item\u001b[0;34m()\u001b[0m\n",
            "\u001b[0;31mKeyError\u001b[0m: 'Windspeed9am'",
            "\nThe above exception was the direct cause of the following exception:\n",
            "\u001b[0;31mKeyError\u001b[0m                                  Traceback (most recent call last)",
            "\u001b[0;32m<ipython-input-103-82aa878d0bbf>\u001b[0m in \u001b[0;36m<module>\u001b[0;34m()\u001b[0m\n\u001b[1;32m      1\u001b[0m \u001b[0;31m# implementing the function on the columns\u001b[0m\u001b[0;34m\u001b[0m\u001b[0;34m\u001b[0m\u001b[0;34m\u001b[0m\u001b[0m\n\u001b[1;32m      2\u001b[0m \u001b[0;34m\u001b[0m\u001b[0m\n\u001b[0;32m----> 3\u001b[0;31m \u001b[0mmean\u001b[0m\u001b[0;34m(\u001b[0m\u001b[0;34m\"Windspeed9am\"\u001b[0m\u001b[0;34m,\u001b[0m \u001b[0;34m\"Windspeed3pm\"\u001b[0m\u001b[0;34m,\u001b[0m \u001b[0;34m\"Avg_Windspeed\"\u001b[0m\u001b[0;34m)\u001b[0m\u001b[0;34m\u001b[0m\u001b[0;34m\u001b[0m\u001b[0m\n\u001b[0m\u001b[1;32m      4\u001b[0m \u001b[0mmean\u001b[0m\u001b[0;34m(\u001b[0m\u001b[0;34m'Humidity9am'\u001b[0m\u001b[0;34m,\u001b[0m \u001b[0;34m'Humidity3pm'\u001b[0m\u001b[0;34m,\u001b[0m \u001b[0;34m'Avg_Humidity'\u001b[0m\u001b[0;34m)\u001b[0m\u001b[0;34m\u001b[0m\u001b[0;34m\u001b[0m\u001b[0m\n\u001b[1;32m      5\u001b[0m \u001b[0mmean\u001b[0m\u001b[0;34m(\u001b[0m\u001b[0;34m'Pressure9am'\u001b[0m\u001b[0;34m,\u001b[0m \u001b[0;34m'Pressure3pm'\u001b[0m\u001b[0;34m,\u001b[0m \u001b[0;34m'Avg_Pressure'\u001b[0m\u001b[0;34m)\u001b[0m\u001b[0;34m\u001b[0m\u001b[0;34m\u001b[0m\u001b[0m\n",
            "\u001b[0;32m<ipython-input-102-2333bb4feba7>\u001b[0m in \u001b[0;36mmean\u001b[0;34m(col1, col2, colname)\u001b[0m\n\u001b[1;32m      1\u001b[0m \u001b[0;31m# Get average of columns\u001b[0m\u001b[0;34m\u001b[0m\u001b[0;34m\u001b[0m\u001b[0;34m\u001b[0m\u001b[0m\n\u001b[1;32m      2\u001b[0m \u001b[0;32mdef\u001b[0m \u001b[0mmean\u001b[0m\u001b[0;34m(\u001b[0m\u001b[0mcol1\u001b[0m\u001b[0;34m,\u001b[0m \u001b[0mcol2\u001b[0m\u001b[0;34m,\u001b[0m \u001b[0mcolname\u001b[0m\u001b[0;34m)\u001b[0m\u001b[0;34m:\u001b[0m\u001b[0;34m\u001b[0m\u001b[0;34m\u001b[0m\u001b[0m\n\u001b[0;32m----> 3\u001b[0;31m   \u001b[0mcol\u001b[0m \u001b[0;34m=\u001b[0m \u001b[0mdf_filled\u001b[0m\u001b[0;34m.\u001b[0m\u001b[0mloc\u001b[0m\u001b[0;34m[\u001b[0m\u001b[0;34m:\u001b[0m \u001b[0;34m,\u001b[0m \u001b[0mcol1\u001b[0m\u001b[0;34m:\u001b[0m\u001b[0mcol2\u001b[0m\u001b[0;34m]\u001b[0m\u001b[0;34m\u001b[0m\u001b[0;34m\u001b[0m\u001b[0m\n\u001b[0m\u001b[1;32m      4\u001b[0m   \u001b[0mdf_filled\u001b[0m\u001b[0;34m[\u001b[0m\u001b[0mcolname\u001b[0m\u001b[0;34m]\u001b[0m \u001b[0;34m=\u001b[0m \u001b[0mcol\u001b[0m\u001b[0;34m.\u001b[0m\u001b[0mmean\u001b[0m\u001b[0;34m(\u001b[0m\u001b[0maxis\u001b[0m\u001b[0;34m=\u001b[0m\u001b[0;36m1\u001b[0m\u001b[0;34m)\u001b[0m\u001b[0;34m\u001b[0m\u001b[0;34m\u001b[0m\u001b[0m\n",
            "\u001b[0;32m/usr/local/lib/python3.7/dist-packages/pandas/core/indexing.py\u001b[0m in \u001b[0;36m__getitem__\u001b[0;34m(self, key)\u001b[0m\n\u001b[1;32m    871\u001b[0m                     \u001b[0;31m# AttributeError for IntervalTree get_value\u001b[0m\u001b[0;34m\u001b[0m\u001b[0;34m\u001b[0m\u001b[0;34m\u001b[0m\u001b[0m\n\u001b[1;32m    872\u001b[0m                     \u001b[0;32mpass\u001b[0m\u001b[0;34m\u001b[0m\u001b[0;34m\u001b[0m\u001b[0m\n\u001b[0;32m--> 873\u001b[0;31m             \u001b[0;32mreturn\u001b[0m \u001b[0mself\u001b[0m\u001b[0;34m.\u001b[0m\u001b[0m_getitem_tuple\u001b[0m\u001b[0;34m(\u001b[0m\u001b[0mkey\u001b[0m\u001b[0;34m)\u001b[0m\u001b[0;34m\u001b[0m\u001b[0;34m\u001b[0m\u001b[0m\n\u001b[0m\u001b[1;32m    874\u001b[0m         \u001b[0;32melse\u001b[0m\u001b[0;34m:\u001b[0m\u001b[0;34m\u001b[0m\u001b[0;34m\u001b[0m\u001b[0m\n\u001b[1;32m    875\u001b[0m             \u001b[0;31m# we by definition only have the 0th axis\u001b[0m\u001b[0;34m\u001b[0m\u001b[0;34m\u001b[0m\u001b[0;34m\u001b[0m\u001b[0m\n",
            "\u001b[0;32m/usr/local/lib/python3.7/dist-packages/pandas/core/indexing.py\u001b[0m in \u001b[0;36m_getitem_tuple\u001b[0;34m(self, tup)\u001b[0m\n\u001b[1;32m   1053\u001b[0m             \u001b[0;32mreturn\u001b[0m \u001b[0mself\u001b[0m\u001b[0;34m.\u001b[0m\u001b[0m_multi_take\u001b[0m\u001b[0;34m(\u001b[0m\u001b[0mtup\u001b[0m\u001b[0;34m)\u001b[0m\u001b[0;34m\u001b[0m\u001b[0;34m\u001b[0m\u001b[0m\n\u001b[1;32m   1054\u001b[0m \u001b[0;34m\u001b[0m\u001b[0m\n\u001b[0;32m-> 1055\u001b[0;31m         \u001b[0;32mreturn\u001b[0m \u001b[0mself\u001b[0m\u001b[0;34m.\u001b[0m\u001b[0m_getitem_tuple_same_dim\u001b[0m\u001b[0;34m(\u001b[0m\u001b[0mtup\u001b[0m\u001b[0;34m)\u001b[0m\u001b[0;34m\u001b[0m\u001b[0;34m\u001b[0m\u001b[0m\n\u001b[0m\u001b[1;32m   1056\u001b[0m \u001b[0;34m\u001b[0m\u001b[0m\n\u001b[1;32m   1057\u001b[0m     \u001b[0;32mdef\u001b[0m \u001b[0m_get_label\u001b[0m\u001b[0;34m(\u001b[0m\u001b[0mself\u001b[0m\u001b[0;34m,\u001b[0m \u001b[0mlabel\u001b[0m\u001b[0;34m,\u001b[0m \u001b[0maxis\u001b[0m\u001b[0;34m:\u001b[0m \u001b[0mint\u001b[0m\u001b[0;34m)\u001b[0m\u001b[0;34m:\u001b[0m\u001b[0;34m\u001b[0m\u001b[0;34m\u001b[0m\u001b[0m\n",
            "\u001b[0;32m/usr/local/lib/python3.7/dist-packages/pandas/core/indexing.py\u001b[0m in \u001b[0;36m_getitem_tuple_same_dim\u001b[0;34m(self, tup)\u001b[0m\n\u001b[1;32m    748\u001b[0m                 \u001b[0;32mcontinue\u001b[0m\u001b[0;34m\u001b[0m\u001b[0;34m\u001b[0m\u001b[0m\n\u001b[1;32m    749\u001b[0m \u001b[0;34m\u001b[0m\u001b[0m\n\u001b[0;32m--> 750\u001b[0;31m             \u001b[0mretval\u001b[0m \u001b[0;34m=\u001b[0m \u001b[0mgetattr\u001b[0m\u001b[0;34m(\u001b[0m\u001b[0mretval\u001b[0m\u001b[0;34m,\u001b[0m \u001b[0mself\u001b[0m\u001b[0;34m.\u001b[0m\u001b[0mname\u001b[0m\u001b[0;34m)\u001b[0m\u001b[0;34m.\u001b[0m\u001b[0m_getitem_axis\u001b[0m\u001b[0;34m(\u001b[0m\u001b[0mkey\u001b[0m\u001b[0;34m,\u001b[0m \u001b[0maxis\u001b[0m\u001b[0;34m=\u001b[0m\u001b[0mi\u001b[0m\u001b[0;34m)\u001b[0m\u001b[0;34m\u001b[0m\u001b[0;34m\u001b[0m\u001b[0m\n\u001b[0m\u001b[1;32m    751\u001b[0m             \u001b[0;31m# We should never have retval.ndim < self.ndim, as that should\u001b[0m\u001b[0;34m\u001b[0m\u001b[0;34m\u001b[0m\u001b[0;34m\u001b[0m\u001b[0m\n\u001b[1;32m    752\u001b[0m             \u001b[0;31m#  be handled by the _getitem_lowerdim call above.\u001b[0m\u001b[0;34m\u001b[0m\u001b[0;34m\u001b[0m\u001b[0;34m\u001b[0m\u001b[0m\n",
            "\u001b[0;32m/usr/local/lib/python3.7/dist-packages/pandas/core/indexing.py\u001b[0m in \u001b[0;36m_getitem_axis\u001b[0;34m(self, key, axis)\u001b[0m\n\u001b[1;32m   1086\u001b[0m         \u001b[0;32mif\u001b[0m \u001b[0misinstance\u001b[0m\u001b[0;34m(\u001b[0m\u001b[0mkey\u001b[0m\u001b[0;34m,\u001b[0m \u001b[0mslice\u001b[0m\u001b[0;34m)\u001b[0m\u001b[0;34m:\u001b[0m\u001b[0;34m\u001b[0m\u001b[0;34m\u001b[0m\u001b[0m\n\u001b[1;32m   1087\u001b[0m             \u001b[0mself\u001b[0m\u001b[0;34m.\u001b[0m\u001b[0m_validate_key\u001b[0m\u001b[0;34m(\u001b[0m\u001b[0mkey\u001b[0m\u001b[0;34m,\u001b[0m \u001b[0maxis\u001b[0m\u001b[0;34m)\u001b[0m\u001b[0;34m\u001b[0m\u001b[0;34m\u001b[0m\u001b[0m\n\u001b[0;32m-> 1088\u001b[0;31m             \u001b[0;32mreturn\u001b[0m \u001b[0mself\u001b[0m\u001b[0;34m.\u001b[0m\u001b[0m_get_slice_axis\u001b[0m\u001b[0;34m(\u001b[0m\u001b[0mkey\u001b[0m\u001b[0;34m,\u001b[0m \u001b[0maxis\u001b[0m\u001b[0;34m=\u001b[0m\u001b[0maxis\u001b[0m\u001b[0;34m)\u001b[0m\u001b[0;34m\u001b[0m\u001b[0;34m\u001b[0m\u001b[0m\n\u001b[0m\u001b[1;32m   1089\u001b[0m         \u001b[0;32melif\u001b[0m \u001b[0mcom\u001b[0m\u001b[0;34m.\u001b[0m\u001b[0mis_bool_indexer\u001b[0m\u001b[0;34m(\u001b[0m\u001b[0mkey\u001b[0m\u001b[0;34m)\u001b[0m\u001b[0;34m:\u001b[0m\u001b[0;34m\u001b[0m\u001b[0;34m\u001b[0m\u001b[0m\n\u001b[1;32m   1090\u001b[0m             \u001b[0;32mreturn\u001b[0m \u001b[0mself\u001b[0m\u001b[0;34m.\u001b[0m\u001b[0m_getbool_axis\u001b[0m\u001b[0;34m(\u001b[0m\u001b[0mkey\u001b[0m\u001b[0;34m,\u001b[0m \u001b[0maxis\u001b[0m\u001b[0;34m=\u001b[0m\u001b[0maxis\u001b[0m\u001b[0;34m)\u001b[0m\u001b[0;34m\u001b[0m\u001b[0;34m\u001b[0m\u001b[0m\n",
            "\u001b[0;32m/usr/local/lib/python3.7/dist-packages/pandas/core/indexing.py\u001b[0m in \u001b[0;36m_get_slice_axis\u001b[0;34m(self, slice_obj, axis)\u001b[0m\n\u001b[1;32m   1121\u001b[0m         \u001b[0mlabels\u001b[0m \u001b[0;34m=\u001b[0m \u001b[0mobj\u001b[0m\u001b[0;34m.\u001b[0m\u001b[0m_get_axis\u001b[0m\u001b[0;34m(\u001b[0m\u001b[0maxis\u001b[0m\u001b[0;34m)\u001b[0m\u001b[0;34m\u001b[0m\u001b[0;34m\u001b[0m\u001b[0m\n\u001b[1;32m   1122\u001b[0m         indexer = labels.slice_indexer(\n\u001b[0;32m-> 1123\u001b[0;31m             \u001b[0mslice_obj\u001b[0m\u001b[0;34m.\u001b[0m\u001b[0mstart\u001b[0m\u001b[0;34m,\u001b[0m \u001b[0mslice_obj\u001b[0m\u001b[0;34m.\u001b[0m\u001b[0mstop\u001b[0m\u001b[0;34m,\u001b[0m \u001b[0mslice_obj\u001b[0m\u001b[0;34m.\u001b[0m\u001b[0mstep\u001b[0m\u001b[0;34m,\u001b[0m \u001b[0mkind\u001b[0m\u001b[0;34m=\u001b[0m\u001b[0;34m\"loc\"\u001b[0m\u001b[0;34m\u001b[0m\u001b[0;34m\u001b[0m\u001b[0m\n\u001b[0m\u001b[1;32m   1124\u001b[0m         )\n\u001b[1;32m   1125\u001b[0m \u001b[0;34m\u001b[0m\u001b[0m\n",
            "\u001b[0;32m/usr/local/lib/python3.7/dist-packages/pandas/core/indexes/base.py\u001b[0m in \u001b[0;36mslice_indexer\u001b[0;34m(self, start, end, step, kind)\u001b[0m\n\u001b[1;32m   4967\u001b[0m         \u001b[0mslice\u001b[0m\u001b[0;34m(\u001b[0m\u001b[0;36m1\u001b[0m\u001b[0;34m,\u001b[0m \u001b[0;36m3\u001b[0m\u001b[0;34m,\u001b[0m \u001b[0;32mNone\u001b[0m\u001b[0;34m)\u001b[0m\u001b[0;34m\u001b[0m\u001b[0;34m\u001b[0m\u001b[0m\n\u001b[1;32m   4968\u001b[0m         \"\"\"\n\u001b[0;32m-> 4969\u001b[0;31m         \u001b[0mstart_slice\u001b[0m\u001b[0;34m,\u001b[0m \u001b[0mend_slice\u001b[0m \u001b[0;34m=\u001b[0m \u001b[0mself\u001b[0m\u001b[0;34m.\u001b[0m\u001b[0mslice_locs\u001b[0m\u001b[0;34m(\u001b[0m\u001b[0mstart\u001b[0m\u001b[0;34m,\u001b[0m \u001b[0mend\u001b[0m\u001b[0;34m,\u001b[0m \u001b[0mstep\u001b[0m\u001b[0;34m=\u001b[0m\u001b[0mstep\u001b[0m\u001b[0;34m,\u001b[0m \u001b[0mkind\u001b[0m\u001b[0;34m=\u001b[0m\u001b[0mkind\u001b[0m\u001b[0;34m)\u001b[0m\u001b[0;34m\u001b[0m\u001b[0;34m\u001b[0m\u001b[0m\n\u001b[0m\u001b[1;32m   4970\u001b[0m \u001b[0;34m\u001b[0m\u001b[0m\n\u001b[1;32m   4971\u001b[0m         \u001b[0;31m# return a slice\u001b[0m\u001b[0;34m\u001b[0m\u001b[0;34m\u001b[0m\u001b[0;34m\u001b[0m\u001b[0m\n",
            "\u001b[0;32m/usr/local/lib/python3.7/dist-packages/pandas/core/indexes/base.py\u001b[0m in \u001b[0;36mslice_locs\u001b[0;34m(self, start, end, step, kind)\u001b[0m\n\u001b[1;32m   5170\u001b[0m         \u001b[0mstart_slice\u001b[0m \u001b[0;34m=\u001b[0m \u001b[0;32mNone\u001b[0m\u001b[0;34m\u001b[0m\u001b[0;34m\u001b[0m\u001b[0m\n\u001b[1;32m   5171\u001b[0m         \u001b[0;32mif\u001b[0m \u001b[0mstart\u001b[0m \u001b[0;32mis\u001b[0m \u001b[0;32mnot\u001b[0m \u001b[0;32mNone\u001b[0m\u001b[0;34m:\u001b[0m\u001b[0;34m\u001b[0m\u001b[0;34m\u001b[0m\u001b[0m\n\u001b[0;32m-> 5172\u001b[0;31m             \u001b[0mstart_slice\u001b[0m \u001b[0;34m=\u001b[0m \u001b[0mself\u001b[0m\u001b[0;34m.\u001b[0m\u001b[0mget_slice_bound\u001b[0m\u001b[0;34m(\u001b[0m\u001b[0mstart\u001b[0m\u001b[0;34m,\u001b[0m \u001b[0;34m\"left\"\u001b[0m\u001b[0;34m,\u001b[0m \u001b[0mkind\u001b[0m\u001b[0;34m)\u001b[0m\u001b[0;34m\u001b[0m\u001b[0;34m\u001b[0m\u001b[0m\n\u001b[0m\u001b[1;32m   5173\u001b[0m         \u001b[0;32mif\u001b[0m \u001b[0mstart_slice\u001b[0m \u001b[0;32mis\u001b[0m \u001b[0;32mNone\u001b[0m\u001b[0;34m:\u001b[0m\u001b[0;34m\u001b[0m\u001b[0;34m\u001b[0m\u001b[0m\n\u001b[1;32m   5174\u001b[0m             \u001b[0mstart_slice\u001b[0m \u001b[0;34m=\u001b[0m \u001b[0;36m0\u001b[0m\u001b[0;34m\u001b[0m\u001b[0;34m\u001b[0m\u001b[0m\n",
            "\u001b[0;32m/usr/local/lib/python3.7/dist-packages/pandas/core/indexes/base.py\u001b[0m in \u001b[0;36mget_slice_bound\u001b[0;34m(self, label, side, kind)\u001b[0m\n\u001b[1;32m   5090\u001b[0m             \u001b[0;32mexcept\u001b[0m \u001b[0mValueError\u001b[0m\u001b[0;34m:\u001b[0m\u001b[0;34m\u001b[0m\u001b[0;34m\u001b[0m\u001b[0m\n\u001b[1;32m   5091\u001b[0m                 \u001b[0;31m# raise the original KeyError\u001b[0m\u001b[0;34m\u001b[0m\u001b[0;34m\u001b[0m\u001b[0;34m\u001b[0m\u001b[0m\n\u001b[0;32m-> 5092\u001b[0;31m                 \u001b[0;32mraise\u001b[0m \u001b[0merr\u001b[0m\u001b[0;34m\u001b[0m\u001b[0;34m\u001b[0m\u001b[0m\n\u001b[0m\u001b[1;32m   5093\u001b[0m \u001b[0;34m\u001b[0m\u001b[0m\n\u001b[1;32m   5094\u001b[0m         \u001b[0;32mif\u001b[0m \u001b[0misinstance\u001b[0m\u001b[0;34m(\u001b[0m\u001b[0mslc\u001b[0m\u001b[0;34m,\u001b[0m \u001b[0mnp\u001b[0m\u001b[0;34m.\u001b[0m\u001b[0mndarray\u001b[0m\u001b[0;34m)\u001b[0m\u001b[0;34m:\u001b[0m\u001b[0;34m\u001b[0m\u001b[0;34m\u001b[0m\u001b[0m\n",
            "\u001b[0;32m/usr/local/lib/python3.7/dist-packages/pandas/core/indexes/base.py\u001b[0m in \u001b[0;36mget_slice_bound\u001b[0;34m(self, label, side, kind)\u001b[0m\n\u001b[1;32m   5084\u001b[0m         \u001b[0;31m# we need to look up the label\u001b[0m\u001b[0;34m\u001b[0m\u001b[0;34m\u001b[0m\u001b[0;34m\u001b[0m\u001b[0m\n\u001b[1;32m   5085\u001b[0m         \u001b[0;32mtry\u001b[0m\u001b[0;34m:\u001b[0m\u001b[0;34m\u001b[0m\u001b[0;34m\u001b[0m\u001b[0m\n\u001b[0;32m-> 5086\u001b[0;31m             \u001b[0mslc\u001b[0m \u001b[0;34m=\u001b[0m \u001b[0mself\u001b[0m\u001b[0;34m.\u001b[0m\u001b[0mget_loc\u001b[0m\u001b[0;34m(\u001b[0m\u001b[0mlabel\u001b[0m\u001b[0;34m)\u001b[0m\u001b[0;34m\u001b[0m\u001b[0;34m\u001b[0m\u001b[0m\n\u001b[0m\u001b[1;32m   5087\u001b[0m         \u001b[0;32mexcept\u001b[0m \u001b[0mKeyError\u001b[0m \u001b[0;32mas\u001b[0m \u001b[0merr\u001b[0m\u001b[0;34m:\u001b[0m\u001b[0;34m\u001b[0m\u001b[0;34m\u001b[0m\u001b[0m\n\u001b[1;32m   5088\u001b[0m             \u001b[0;32mtry\u001b[0m\u001b[0;34m:\u001b[0m\u001b[0;34m\u001b[0m\u001b[0;34m\u001b[0m\u001b[0m\n",
            "\u001b[0;32m/usr/local/lib/python3.7/dist-packages/pandas/core/indexes/base.py\u001b[0m in \u001b[0;36mget_loc\u001b[0;34m(self, key, method, tolerance)\u001b[0m\n\u001b[1;32m   2898\u001b[0m                 \u001b[0;32mreturn\u001b[0m \u001b[0mself\u001b[0m\u001b[0;34m.\u001b[0m\u001b[0m_engine\u001b[0m\u001b[0;34m.\u001b[0m\u001b[0mget_loc\u001b[0m\u001b[0;34m(\u001b[0m\u001b[0mcasted_key\u001b[0m\u001b[0;34m)\u001b[0m\u001b[0;34m\u001b[0m\u001b[0;34m\u001b[0m\u001b[0m\n\u001b[1;32m   2899\u001b[0m             \u001b[0;32mexcept\u001b[0m \u001b[0mKeyError\u001b[0m \u001b[0;32mas\u001b[0m \u001b[0merr\u001b[0m\u001b[0;34m:\u001b[0m\u001b[0;34m\u001b[0m\u001b[0;34m\u001b[0m\u001b[0m\n\u001b[0;32m-> 2900\u001b[0;31m                 \u001b[0;32mraise\u001b[0m \u001b[0mKeyError\u001b[0m\u001b[0;34m(\u001b[0m\u001b[0mkey\u001b[0m\u001b[0;34m)\u001b[0m \u001b[0;32mfrom\u001b[0m \u001b[0merr\u001b[0m\u001b[0;34m\u001b[0m\u001b[0;34m\u001b[0m\u001b[0m\n\u001b[0m\u001b[1;32m   2901\u001b[0m \u001b[0;34m\u001b[0m\u001b[0m\n\u001b[1;32m   2902\u001b[0m         \u001b[0;32mif\u001b[0m \u001b[0mtolerance\u001b[0m \u001b[0;32mis\u001b[0m \u001b[0;32mnot\u001b[0m \u001b[0;32mNone\u001b[0m\u001b[0;34m:\u001b[0m\u001b[0;34m\u001b[0m\u001b[0;34m\u001b[0m\u001b[0m\n",
            "\u001b[0;31mKeyError\u001b[0m: 'Windspeed9am'"
          ]
        }
      ]
    },
    {
      "cell_type": "markdown",
      "metadata": {
        "id": "dByWIBBJYa1X"
      },
      "source": [
        "The temperatures taken at different times are correlated with each other"
      ]
    },
    {
      "cell_type": "code",
      "metadata": {
        "id": "E3zGwa6oZfxp"
      },
      "source": [
        "# Heat map showing correlation\n",
        "\n",
        "plt.figure(figsize=(12, 8))\n",
        "\n",
        "dfcorr = df_filled.corr()\n",
        "sns.heatmap(dfcorr, \n",
        "            xticklabels = dfcorr.columns.values,\n",
        "            yticklabels = dfcorr.columns.values,\n",
        "            annot = True);"
      ],
      "execution_count": null,
      "outputs": []
    },
    {
      "cell_type": "code",
      "metadata": {
        "id": "XCiphie_Xm0K"
      },
      "source": [
        "df_filled['year']=df_filled['date'].dt.year"
      ],
      "execution_count": null,
      "outputs": []
    },
    {
      "cell_type": "code",
      "metadata": {
        "id": "ujb7db_gXqdM"
      },
      "source": [
        "# Area chart showing minimum temperature in Australia by Location over the years\n",
        "\n",
        "by_year = (df_filled.groupby(['year', 'location']).avg_temp.mean())\n",
        "by_year.unstack().plot(kind='area',stacked=True, colormap= 'Spectral', figsize=(13, 4));"
      ],
      "execution_count": null,
      "outputs": []
    },
    {
      "cell_type": "markdown",
      "metadata": {
        "id": "xnsiN2MrX5MW"
      },
      "source": [
        "The data shows a general increase in temperature in 2016, 2014 and 2010. Brisbane and Cairns seems to be consistent temperature-wise. The temperature between 2011 and 2013 is steady."
      ]
    },
    {
      "cell_type": "code",
      "metadata": {
        "id": "z5QBTsVTXxQx"
      },
      "source": [
        "# Line graph showing evolution of temperature over the years in different locations\n",
        "\n",
        "by_year = (df_filled.groupby(['year', 'location']).avg_windspeed.mean())\n",
        "by_year.unstack().plot(kind='line', colormap= 'Spectral', figsize=(15, 8));\n"
      ],
      "execution_count": null,
      "outputs": []
    },
    {
      "cell_type": "code",
      "metadata": {
        "id": "t5ap7a21ZSys"
      },
      "source": [
        "# Line graph showing evolution of temperature over the years in different locations\n",
        "\n",
        "by_year = (df_filled.groupby(['year', 'location']).avg_pressure.mean())\n",
        "by_year.unstack().plot(kind='line', colormap= 'Spectral', figsize=(15, 8));"
      ],
      "execution_count": null,
      "outputs": []
    },
    {
      "cell_type": "markdown",
      "metadata": {
        "id": "bCgVXfe-YPLi"
      },
      "source": [
        "Brisbane and Townsville are low pressure zones from the data"
      ]
    },
    {
      "cell_type": "code",
      "metadata": {
        "id": "AvQnbJqkbKXe"
      },
      "source": [
        "#  Trend evolution over time in wind speed and wind gust\n",
        "\n",
        "windgust= df_filled['windgustspeed'].resample('Q').mean()\n",
        "windspeed= df_filled['avg_windspeed'].resample('Q').mean()\n",
        "\n",
        "windgust.plot()\n",
        "windspeed.plot()\n",
        "\n",
        "plt.legend(['windgust', 'windspeed'])\n",
        "plt.ylabel('wind speed(km/hr)', fontsize=12)\n",
        "plt.xlabel('datetime', fontsize=12)\n",
        "plt.title('Line Graph showing trends in windgust and windspeed', fontsize= 14)\n",
        "plt.show()"
      ],
      "execution_count": null,
      "outputs": []
    },
    {
      "cell_type": "code",
      "metadata": {
        "id": "JxG8N75rbYid"
      },
      "source": [
        "#  Trend evolution over maximum and minimum temperatures\n",
        "\n",
        "min= df_filled['mintemp'].resample('Q').mean()\n",
        "max= df_filled['maxtemp'].resample('Q').mean()\n",
        "\n",
        "min.plot()\n",
        "max.plot()\n",
        "\n",
        "plt.legend(['minTemp', 'MaxTemp'])\n",
        "plt.ylabel('Temperature in degrees celsius', fontsize=12)\n",
        "plt.xlabel('Datetime', fontsize=12)\n",
        "plt.title('Line Graph showing trends in max and min temperatures', fontsize= 14)\n",
        "plt.show()"
      ],
      "execution_count": null,
      "outputs": []
    },
    {
      "cell_type": "markdown",
      "metadata": {
        "id": "lGEIt9TJ83X2"
      },
      "source": [
        "#Principal Component Analysis (PCA)\n",
        "\n",
        "Principal Component Analysis, or PCA, is a dimensionality-reduction method that is often used to reduce the dimensionality of large data sets, by transforming a large set of variables into a smaller one that still contains most of the information in the large set."
      ]
    },
    {
      "cell_type": "markdown",
      "metadata": {
        "id": "xUs04Jkf86r4"
      },
      "source": [
        "## Drop unneccessary columns"
      ]
    },
    {
      "cell_type": "code",
      "metadata": {
        "id": "16GTMRlH83Cy"
      },
      "source": [
        "PCA_data=df_filled.drop(['date','avg_windspeed','avg_humidity','avg_pressure','avg_cloud','avg_temp'],axis=1)\n",
        "PCA_data.head(2)"
      ],
      "execution_count": null,
      "outputs": []
    },
    {
      "cell_type": "code",
      "metadata": {
        "id": "_5Z2sUd89PQZ"
      },
      "source": [
        "#We start by checking variable types\n",
        "PCA_data.dtypes\n",
        "\n",
        "# next we change variable types.\n",
        "PCA_data[\"location\"] = PCA_data[\"location\"].astype('category')\n",
        "PCA_data[\"windgustdir\"] = PCA_data[\"windgustdir\"].astype('category')\n",
        "PCA_data[\"winddir9am\"] = PCA_data[\"winddir9am\"].astype('category')\n",
        "PCA_data[\"winddir3pm\"] = PCA_data[\"winddir3pm\"].astype('category')\n",
        "PCA_data[\"raintoday\"] = PCA_data[\"raintoday\"].astype('category')\n",
        "PCA_data[\"raintomorrow\"] = PCA_data[\"raintomorrow\"].astype('category')\n",
        "\n",
        "#Next we encoded variable via the cat.codes accessor\n",
        "PCA_data[\"location\"] = PCA_data[\"location\"].cat.codes\n",
        "PCA_data[\"windgustdir\"] = PCA_data[\"windgustdir\"].cat.codes\n",
        "PCA_data[\"winddir9am\"] = PCA_data[\"winddir9am\"].cat.codes\n",
        "PCA_data[\"winddir3pm\"] = PCA_data[\"winddir3pm\"].cat.codes\n",
        "PCA_data[\"raintoday\"] = PCA_data[\"raintoday\"].cat.codes\n",
        "PCA_data[\"raintomorrow\"] = PCA_data[\"raintomorrow\"].cat.codes\n",
        "PCA_data.head(2)"
      ],
      "execution_count": null,
      "outputs": []
    },
    {
      "cell_type": "markdown",
      "metadata": {
        "id": "Zr_3TOhe9lxk"
      },
      "source": [
        "Distributing the dataset into two components X and Y"
      ]
    },
    {
      "cell_type": "code",
      "metadata": {
        "id": "zTqIa8sB9lOl"
      },
      "source": [
        "#Set the values for x and y\n",
        "\n",
        "x = PCA_data.drop('raintomorrow',1)\n",
        "y = PCA_data['raintomorrow']"
      ],
      "execution_count": null,
      "outputs": []
    },
    {
      "cell_type": "markdown",
      "metadata": {
        "id": "nzMhJge-9tQU"
      },
      "source": [
        "Splitting the dataset into the Training set and Test set"
      ]
    },
    {
      "cell_type": "code",
      "metadata": {
        "id": "7J8-3np29s3k"
      },
      "source": [
        "# Splitting the X and Y into Training set and Testing set\n",
        "\n",
        "from sklearn.model_selection import train_test_split\n",
        "  \n",
        "x_train, x_test, y_train, y_test = train_test_split(x, y, test_size = 0.2, random_state = 0)"
      ],
      "execution_count": null,
      "outputs": []
    },
    {
      "cell_type": "markdown",
      "metadata": {
        "id": "bS4VgVDe9yt_"
      },
      "source": [
        " Feature Scaling  by  fitting the data to a Standard scale."
      ]
    },
    {
      "cell_type": "code",
      "metadata": {
        "id": "HAay7oi79zKg"
      },
      "source": [
        "from sklearn.preprocessing import StandardScaler\n",
        "sc = StandardScaler()\n",
        "  \n",
        "x_train = sc.fit_transform(x_train)\n",
        "x_test = sc.transform(x_test)"
      ],
      "execution_count": null,
      "outputs": []
    },
    {
      "cell_type": "markdown",
      "metadata": {
        "id": "I0TcOyLk95rr"
      },
      "source": [
        "Applying PCA function"
      ]
    },
    {
      "cell_type": "code",
      "metadata": {
        "id": "hL8JQCzP96Jk"
      },
      "source": [
        "# Applying PCA function on training and testing set of X component\n",
        "from sklearn.decomposition import PCA\n",
        "  \n",
        "pca_rain = PCA(n_components =10)\n",
        "  \n",
        "x_train = pca_rain.fit_transform(x_train)\n",
        "x_test = pca_rain.transform(x_test)\n",
        "  \n"
      ],
      "execution_count": null,
      "outputs": []
    },
    {
      "cell_type": "markdown",
      "metadata": {
        "id": "8mLRwcF0-B6Q"
      },
      "source": [
        "Explained_variance \n"
      ]
    },
    {
      "cell_type": "code",
      "metadata": {
        "id": "vW28pGJM-CoY"
      },
      "source": [
        "explained_variance = pca_rain.explained_variance_ratio_\n",
        "explained_variance "
      ],
      "execution_count": null,
      "outputs": []
    },
    {
      "cell_type": "code",
      "metadata": {
        "id": "P74kop-oeZbq"
      },
      "source": [
        "\n",
        "# Determine explained variance using explained_variance_ration_ attribute\n",
        "#\n",
        "exp_var_pca = explained_variance\n",
        "#\n",
        "# Cumulative sum of eigenvalues; This will be used to create step plot\n",
        "# for visualizing the variance explained by each principal component.\n",
        "#\n",
        "cum_sum_eigenvalues = np.cumsum(exp_var_pca)\n",
        "#\n",
        "# Create the visualization plot\n",
        "#\n",
        "plt.bar(range(0,len(exp_var_pca)), exp_var_pca, alpha=0.5, align='center', label='Individual explained variance')\n",
        "plt.step(range(0,len(cum_sum_eigenvalues)), cum_sum_eigenvalues, where='mid',label='Cumulative explained variance')\n",
        "plt.ylabel('Explained variance ratio')\n",
        "plt.xlabel('Principal component index')\n",
        "plt.legend(loc='best')\n",
        "plt.tight_layout()\n",
        "plt.show()"
      ],
      "execution_count": null,
      "outputs": []
    },
    {
      "cell_type": "markdown",
      "metadata": {
        "id": "fUzIgYYh-Ie-"
      },
      "source": [
        "The output shows that PC1, PC2 and PC3 prespectively account for approximately 28.4%,18.1% and 11.3% of the variance in the data set."
      ]
    },
    {
      "cell_type": "markdown",
      "metadata": {
        "id": "FLW6c1Ea-i2h"
      },
      "source": [
        "Eigendecomposition \n",
        "\n",
        "a)Eigenvectors "
      ]
    },
    {
      "cell_type": "code",
      "metadata": {
        "id": "1c4d1w07-Fm0"
      },
      "source": [
        "cov_mat = np.cov(x_train.T)\n",
        "\n",
        "eig_vals, eig_vecs = np.linalg.eig(cov_mat)\n",
        "\n",
        "print('Eigenvectors \\n%s' %eig_vecs)"
      ],
      "execution_count": null,
      "outputs": []
    },
    {
      "cell_type": "markdown",
      "metadata": {
        "id": "fqy3t7yx-q1u"
      },
      "source": [
        "\n",
        "b) Eigenvalues"
      ]
    },
    {
      "cell_type": "code",
      "metadata": {
        "id": "uBqu33Pu-qaJ"
      },
      "source": [
        "print('\\nEigenvalues \\n%s' %eig_vals)"
      ],
      "execution_count": null,
      "outputs": []
    },
    {
      "cell_type": "markdown",
      "metadata": {
        "id": "Gxjbc27_-8MQ"
      },
      "source": [
        "Fitting Logistic Regression To the training set"
      ]
    },
    {
      "cell_type": "code",
      "metadata": {
        "id": "8T04K2SQ-7s_"
      },
      "source": [
        "# Fitting Logistic Regression To the training set\n",
        "from sklearn.linear_model import LogisticRegression  \n",
        "  \n",
        "classifier = LogisticRegression(random_state = 0)\n",
        "classifier.fit(x_train, y_train)\n"
      ],
      "execution_count": null,
      "outputs": []
    },
    {
      "cell_type": "markdown",
      "metadata": {
        "id": "uY-xlynz_Cwq"
      },
      "source": [
        "Predicting the test set result"
      ]
    },
    {
      "cell_type": "code",
      "metadata": {
        "id": "jde9wcAI-_OW"
      },
      "source": [
        "# Predicting the test set result using predict function under LogisticRegression \n",
        "y_pred = classifier.predict(x_test)\n",
        "y_pred"
      ],
      "execution_count": null,
      "outputs": []
    },
    {
      "cell_type": "markdown",
      "metadata": {
        "id": "7c8iehB0_Kgy"
      },
      "source": [
        "Making the confusion matrix"
      ]
    },
    {
      "cell_type": "code",
      "metadata": {
        "id": "Wd7hXt8Y_K_0"
      },
      "source": [
        "# making confusion matrix between test set of Y and predicted value.\n",
        "from sklearn.metrics import confusion_matrix\n",
        "from sklearn.metrics import accuracy_score\n",
        "  \n",
        "cm = confusion_matrix(y_test,y_pred)\n",
        "print(cm)\n",
        "print('Accuracy', accuracy_score(y_test,y_pred))\n",
        "# Accuracy 83%"
      ],
      "execution_count": null,
      "outputs": []
    },
    {
      "cell_type": "markdown",
      "metadata": {
        "id": "exX2dO_W_WYY"
      },
      "source": [
        "#Feature Importance\n",
        "\n",
        "The importance of each feature is reflected by the magnitude of the corresponding values in the eigenvectors (higher magnitude — higher importance)\n"
      ]
    },
    {
      "cell_type": "code",
      "metadata": {
        "id": "bCAtYL6__Q9m"
      },
      "source": [
        "#Let’s find the most important features:\n",
        "\n",
        "print(abs( pca_rain.components_ ))\n"
      ],
      "execution_count": null,
      "outputs": []
    },
    {
      "cell_type": "markdown",
      "metadata": {
        "id": "r8cqW63bBP3n"
      },
      "source": [
        "Here, **pca_rain.components_** has shape **[n_components, n_features]** \n",
        "\n",
        "Thus, by looking at the PC1 (first Principal Component) which is the first row\n",
        "\n",
        "##### [6.18915348e-02 2.53295457e-01 ****3.72460419e-01**** 1.85591366e-01\n",
        "##### ****3.17819354e-01**** ****2.61845224e-01**** 1.18803029e-01 5.58475565e-02\n",
        " ##### 1.22315888e-01 9.63208354e-02 4.87059122e-02 4.41811804e-02\n",
        "#####  ****2.89819072e-01**** ****2.50883760e-01**** 1.40635543e-01 1.82551613e-01\n",
        "#####  1.85360833e-01 1.82701431e-01 ****3.30903622e-01**** ****3.72145018e-01****\n",
        "#####  1.66441766e-01  ]\n",
        "  We can conclude that feature **3, 5,6,13,14,19** and **20** are the most \n",
        "  important for PC1."
      ]
    },
    {
      "cell_type": "markdown",
      "metadata": {
        "id": "ySn9oh6xErcA"
      },
      "source": [
        " # PROBABILITY ANALYSIS"
      ]
    },
    {
      "cell_type": "code",
      "metadata": {
        "id": "8cKoc5ilBKF9"
      },
      "source": [
        "#probability it rains tomorrow\n",
        "num_of_location__it_rains_tomorrow = (df_filled['raintomorrow'] == 'Yes').sum()\n",
        "total_num_it_rains = len(df_filled)\n",
        "prob_rains = num_of_location__it_rains_tomorrow/total_num_it_rains\n",
        "print(prob_rains)\n"
      ],
      "execution_count": null,
      "outputs": []
    },
    {
      "cell_type": "code",
      "metadata": {
        "id": "7U9LM8U5E87k"
      },
      "source": [
        "# Let us calculate the probability that it rains per location\n",
        "rains_per_loc= df_filled.groupby('location')\n",
        "num_of_days_it_rains_per_loc = rains_per_loc.size()\n",
        "rains_per_loc_prob = num_of_days_it_rains_per_loc.apply(lambda num_of_days:num_of_days/total_num_it_rains )\n",
        "print(rains_per_loc_prob)"
      ],
      "execution_count": null,
      "outputs": []
    },
    {
      "cell_type": "code",
      "metadata": {
        "id": "iBKe5mHmFDWE"
      },
      "source": [
        "#Let us calculate the probability that it remains tomorrow if the min temparatures are above ten\n",
        "mintemp_locs = df_filled[df_filled['mintemp']>=10]\n",
        "mintemp_locs = len(mintemp_locs)\n",
        "rainss = df_filled[df_filled['raintoday']=='Yes']\n",
        "rainss_1=len(rainss)\n",
        "prob_rains = rainss_1/mintemp_locs\n",
        "print(prob_rains)"
      ],
      "execution_count": null,
      "outputs": []
    },
    {
      "cell_type": "code",
      "metadata": {
        "id": "29tvEwMpFR8A"
      },
      "source": [
        "#Let us calculate the probability that it remains tomorrow if the min temparatures are above ten and it rains today\n",
        "mintemp_locs = df_filled.loc[(df_filled['mintemp']<=3)&(df_filled['raintoday']=='Yes')]\n",
        "mintemp_locs_1 = len(mintemp_locs)\n",
        "rainss=df_filled[df_filled['mintemp']<=3]\n",
        "rainss_1=len(rainss)\n",
        "prob_rains = mintemp_locs_1/rainss_1\n",
        "print(prob_rains)"
      ],
      "execution_count": null,
      "outputs": []
    },
    {
      "cell_type": "code",
      "metadata": {
        "id": "60WWyVOnVT2i"
      },
      "source": [
        "#Let us calculate the probability that it remains tomorrow if the max temparatures are above ten\n",
        "maxtemp_locs = df_filled.loc[(df_filled['maxtemp']<=3)&(df_filled['raintoday']=='Yes')]\n",
        "maxtemp_locs_1 = len(maxtemp_locs)\n",
        "rainss=df_filled[df_filled['mintemp']<=3]\n",
        "rainss_1=len(rainss)\n",
        "prob_rains = maxtemp_locs_1/rainss_1\n",
        "print(prob_rains)"
      ],
      "execution_count": null,
      "outputs": []
    },
    {
      "cell_type": "code",
      "metadata": {
        "id": "ALNFOQ05Ve0b"
      },
      "source": [
        "#Let us calculate the probability that it remains tomorrow if the humidity is above or equal to 8\n",
        "Humidity = df_filled[df_filled['humidity9am']>=85]\n",
        "Humid= len(Humidity)\n",
        "rains_t = df_filled[df_filled['raintoday']=='Yes']\n",
        "rains_t1=len(rains_t)\n",
        "prob_rains = rains_t1/Humid\n",
        "print(prob_rains)"
      ],
      "execution_count": null,
      "outputs": []
    },
    {
      "cell_type": "markdown",
      "metadata": {
        "id": "CgxtGNJlWAqh"
      },
      "source": [
        "#####From the above result we can come into conclusion that it was more likely to experience rains on that day########\n",
        "#####If the humidity was equal to or above 85"
      ]
    },
    {
      "cell_type": "code",
      "metadata": {
        "id": "JGAoU2RTV9iN"
      },
      "source": [
        "#The probability that the humidity is above 85 at 9 am and it rains today\n",
        "Humidity = df_filled[(df_filled['humidity9am']<=85) & (df_filled['raintoday']=='Yes')]\n",
        "Humid= len(Humidity)\n",
        "rains_t = len(df_filled)\n",
        "prob_rains = Humid/rains_t\n",
        "print(prob_rains)"
      ],
      "execution_count": null,
      "outputs": []
    },
    {
      "cell_type": "code",
      "metadata": {
        "id": "UeSGuy5dWeGT"
      },
      "source": [
        "#The probability that the humidity is above 85 at 9 am and it rains today\n",
        "Humidity = df_filled[(df_filled['humidity9am']>=100)&(df_filled['humidity3pm']>=100) &(df_filled['raintoday']=='Yes')]\n",
        "rains_t = df_filled[(df_filled['humidity9am']>=100)&(df_filled['humidity3pm']>=100)]\n",
        "Humid= len(Humidity)\n",
        "rains_t2=len(rains_t)\n",
        "prob_rains = Humid/rains_t2\n",
        "print(prob_rains)"
      ],
      "execution_count": null,
      "outputs": []
    },
    {
      "cell_type": "markdown",
      "metadata": {
        "id": "qddXvq9EWsMr"
      },
      "source": [
        "From the above result we can see that the chances of rain falling are influenced by humidity. The higher the amount of humidity in a day the higher the chances of raining there are "
      ]
    },
    {
      "cell_type": "code",
      "metadata": {
        "id": "hjlR8TMjWoVd"
      },
      "source": [
        "#The probability that the pressure is equal to or above 1000 at 9 am or 3pm and it rains today\n",
        "Humidity = df_filled[(df_filled['pressure9am']<=1000)&(df_filled['pressure3pm']<=1000) &(df_filled['raintoday']=='Yes')]\n",
        "rains_t = df_filled[(df_filled['pressure9am']<=1000)&(df_filled['pressure3pm']<=1000)]\n",
        "Humid= len(Humidity)\n",
        "rains_t2=len(rains_t)\n",
        "prob_rains = Humid/rains_t2\n",
        "print(prob_rains)"
      ],
      "execution_count": null,
      "outputs": []
    },
    {
      "cell_type": "markdown",
      "metadata": {
        "id": "jgbuBoB-XYeS"
      },
      "source": [
        "From the above analysis we figured out that the chances of raining increased as the pressure lowered. "
      ]
    },
    {
      "cell_type": "markdown",
      "metadata": {
        "id": "nDmZ3Eslani3"
      },
      "source": [
        "#  Hypothesis test"
      ]
    },
    {
      "cell_type": "code",
      "metadata": {
        "id": "OekaZ7Hga3fQ"
      },
      "source": [
        "#H0 Rain today and rain tomorrow  are dependent\n",
        "#Ha Rain today and rain tomorrow are independent"
      ],
      "execution_count": null,
      "outputs": []
    },
    {
      "cell_type": "code",
      "metadata": {
        "id": "ob3lbuVy1Oo_"
      },
      "source": [
        "df_filled.head(5)"
      ],
      "execution_count": null,
      "outputs": []
    },
    {
      "cell_type": "code",
      "metadata": {
        "id": "KjprvxaT4_AP"
      },
      "source": [
        "dfnull = df_filled[(df_filled['raintoday'] == 'Yes') & (df_filled['raintomorrow'] == 'Yes')] "
      ],
      "execution_count": null,
      "outputs": []
    },
    {
      "cell_type": "code",
      "metadata": {
        "id": "cAK6-TFj1RAZ"
      },
      "source": [
        "from scipy.stats import chi2_contingency\n",
        "contigency= pd.crosstab(dfnull['raintomorrow'], dfnull['raintoday']) \n",
        "contigency"
      ],
      "execution_count": null,
      "outputs": []
    },
    {
      "cell_type": "code",
      "metadata": {
        "id": "6fdxtUFY4ga_"
      },
      "source": [
        "contigency_pct = pd.crosstab(dfnull['raintomorrow'], dfnull['raintoday'], normalize='index')\n",
        "contigency_pct"
      ],
      "execution_count": null,
      "outputs": []
    },
    {
      "cell_type": "code",
      "metadata": {
        "id": "stIkzx-D41jX"
      },
      "source": [
        "plt.figure(figsize=(12,8)) \n",
        "sns.heatmap(contigency, annot=True, cmap=\"YlGnBu\")"
      ],
      "execution_count": null,
      "outputs": []
    },
    {
      "cell_type": "code",
      "metadata": {
        "id": "wUZNiA6547Aa"
      },
      "source": [
        "# Chi-square test of independence. \n",
        "c, p, dof, expected = chi2_contingency(contigency) \n",
        "# Print the p-value\n",
        "print(p)"
      ],
      "execution_count": null,
      "outputs": []
    },
    {
      "cell_type": "code",
      "metadata": {
        "id": "N-FLBUOL5KNo"
      },
      "source": [
        "# the p value is 100%, thus we reject our null hypothesis. \n",
        "# if it rains today it wont rain tomorrow\n",
        "\n"
      ],
      "execution_count": null,
      "outputs": []
    },
    {
      "cell_type": "code",
      "metadata": {
        "id": "HY_6KeFQ8Kjz"
      },
      "source": [
        ""
      ],
      "execution_count": null,
      "outputs": []
    }
  ]
}